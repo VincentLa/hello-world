{
 "cells": [
  {
   "cell_type": "markdown",
   "metadata": {},
   "source": [
    "Find the square root of a number"
   ]
  },
  {
   "cell_type": "code",
   "execution_count": 12,
   "metadata": {},
   "outputs": [],
   "source": [
    "THRESHOLD = 0.001\n",
    "def square_root(x):\n",
    "    \"\"\"\n",
    "    Start at 0 and end at x/2 since the midpoint is the max the square root can be.\n",
    "    \n",
    "    Do binary search\n",
    "    \"\"\"\n",
    "    assert x >= 0, \"Enter non-negative number\"\n",
    "    \n",
    "    start = 0\n",
    "    end = x / 2\n",
    "    mid = (start + end) / 2\n",
    "    \n",
    "    if x == 0:\n",
    "        return x\n",
    "    if x == 1:\n",
    "        return x\n",
    "    while abs(mid * mid - x) > THRESHOLD:\n",
    "        print(start, mid, end)\n",
    "        if mid * mid > x:\n",
    "            end = mid\n",
    "            mid = (start + end) / 2\n",
    "        else:\n",
    "            start = mid\n",
    "            mid = (start + end) / 2\n",
    "    return mid"
   ]
  },
  {
   "cell_type": "code",
   "execution_count": 14,
   "metadata": {},
   "outputs": [
    {
     "data": {
      "text/plain": [
       "4.0"
      ]
     },
     "execution_count": 14,
     "metadata": {},
     "output_type": "execute_result"
    }
   ],
   "source": [
    "square_root(16)"
   ]
  },
  {
   "cell_type": "code",
   "execution_count": 15,
   "metadata": {},
   "outputs": [],
   "source": [
    "THRESHOLD == 0.001\n",
    "def square_root_recursion(x, start=None, end=None):\n",
    "    assert x >= 0, \"Enter non-negative number\"\n",
    "    if x == 0 or x == 1:\n",
    "        return x\n",
    "    \n",
    "    # Initalize case of start and end\n",
    "    if start is None:\n",
    "        start = 0\n",
    "    if end is None:\n",
    "        end = x / 2\n",
    "    \n",
    "    mid = (start + end) / 2\n",
    "    \n",
    "    if abs(mid * mid - x) <= THRESHOLD:\n",
    "        return mid\n",
    "    if mid * mid > x:\n",
    "        return square_root_recursion(x, start=start, end=mid)\n",
    "    if mid * mid < x:\n",
    "        return square_root_recursion(x, start=mid, end=end)"
   ]
  },
  {
   "cell_type": "code",
   "execution_count": 17,
   "metadata": {},
   "outputs": [
    {
     "data": {
      "text/plain": [
       "5.196189880371094"
      ]
     },
     "execution_count": 17,
     "metadata": {},
     "output_type": "execute_result"
    }
   ],
   "source": [
    "square_root_recursion(27)"
   ]
  },
  {
   "cell_type": "code",
   "execution_count": null,
   "metadata": {},
   "outputs": [],
   "source": []
  }
 ],
 "metadata": {
  "kernelspec": {
   "display_name": "Python 3",
   "language": "python",
   "name": "python3"
  },
  "language_info": {
   "codemirror_mode": {
    "name": "ipython",
    "version": 3
   },
   "file_extension": ".py",
   "mimetype": "text/x-python",
   "name": "python",
   "nbconvert_exporter": "python",
   "pygments_lexer": "ipython3",
   "version": "3.7.4"
  }
 },
 "nbformat": 4,
 "nbformat_minor": 4
}
