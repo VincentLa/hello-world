{
 "cells": [
  {
   "cell_type": "markdown",
   "metadata": {},
   "source": [
    "# Anagrams\n",
    "Given two strings determine if they are anagrams. Two strings are anagrams if the string can be formed by rearranging the letters of another, such as cinema, formed from iceman."
   ]
  },
  {
   "cell_type": "code",
   "execution_count": 1,
   "metadata": {},
   "outputs": [],
   "source": [
    "def check_anagram_hash(stringa, stringb):\n",
    "    \"\"\"\n",
    "    Check if two strings are anagrams using a hash table\n",
    "    \n",
    "    Runtime: O(n), we are just iterating over the length of the list 3 times. \n",
    "    \"\"\"\n",
    "    hash_lookup = {}\n",
    "    for letter in stringa:\n",
    "        if letter not in hash_lookup:\n",
    "            hash_lookup[letter] = [1, 0]\n",
    "        else:\n",
    "            hash_lookup[letter][0] += 1\n",
    "    \n",
    "    for letter in stringb:\n",
    "        if letter not in hash_lookup:\n",
    "            hash_lookup[letter] = [0, 1]\n",
    "        else:\n",
    "            hash_lookup[letter][1] += 1\n",
    "            \n",
    "    for letter, diff in hash_lookup.items():\n",
    "        if diff[0] - diff[1] != 0:\n",
    "            return False\n",
    "    \n",
    "    return True"
   ]
  },
  {
   "cell_type": "code",
   "execution_count": 2,
   "metadata": {},
   "outputs": [],
   "source": [
    "def check_anagram_hash_efficient(stringa, stringb):\n",
    "    \"\"\"\n",
    "    Check if two strings are anagrams using a hash table\n",
    "    \n",
    "    Runtime: O(n), but slightly more efficient than the original function above since this has some early stopping\n",
    "    In case a new letter is found in stringb not in stringa can stop immediately. \n",
    "    \"\"\"\n",
    "    hash_lookup = {}\n",
    "    for letter in stringa:\n",
    "        if letter not in hash_lookup:\n",
    "            hash_lookup[letter] = [1, 0]\n",
    "        else:\n",
    "            hash_lookup[letter][0] += 1\n",
    "    \n",
    "    for letter in stringb:\n",
    "        if letter not in hash_lookup:\n",
    "            return False\n",
    "        else:\n",
    "            hash_lookup[letter][1] += 1\n",
    "            if hash_lookup[letter][1] > hash_lookup[letter][0]:\n",
    "                return False\n",
    "    return True"
   ]
  },
  {
   "cell_type": "code",
   "execution_count": 3,
   "metadata": {},
   "outputs": [],
   "source": [
    "def check_anagram_sort(stringa, stringb):\n",
    "    \"\"\"\n",
    "    Check if two strings are anagrams using a sort\n",
    "    \n",
    "    Runtime: O(n log n) because of sort.\n",
    "    \"\"\"\n",
    "    if len(stringa) != len(stringb):\n",
    "        return False\n",
    "    \n",
    "    stringa_list = sorted(stringa)\n",
    "    stringb_list = sorted(stringb)\n",
    "    \n",
    "    if stringa_list == stringb_list:\n",
    "        return True\n",
    "    else:\n",
    "        return False"
   ]
  },
  {
   "cell_type": "markdown",
   "metadata": {},
   "source": [
    "## Test Cases"
   ]
  },
  {
   "cell_type": "code",
   "execution_count": 4,
   "metadata": {},
   "outputs": [],
   "source": [
    "stringa = 'vincent'\n",
    "stringb = 'centvin'\n",
    "\n",
    "not_stringa = 'vincent'\n",
    "not_stringb ='centvinvin'\n",
    "\n",
    "not_stringa2 = 'vincents'\n",
    "not_stringb2 ='vincenta'"
   ]
  },
  {
   "cell_type": "code",
   "execution_count": 5,
   "metadata": {},
   "outputs": [
    {
     "data": {
      "text/plain": [
       "True"
      ]
     },
     "execution_count": 5,
     "metadata": {},
     "output_type": "execute_result"
    }
   ],
   "source": [
    "check_anagram_hash(stringa=stringa, stringb=stringb)"
   ]
  },
  {
   "cell_type": "code",
   "execution_count": 6,
   "metadata": {},
   "outputs": [
    {
     "data": {
      "text/plain": [
       "True"
      ]
     },
     "execution_count": 6,
     "metadata": {},
     "output_type": "execute_result"
    }
   ],
   "source": [
    "check_anagram_hash_efficient(stringa=stringa, stringb=stringb)"
   ]
  },
  {
   "cell_type": "code",
   "execution_count": 7,
   "metadata": {},
   "outputs": [
    {
     "data": {
      "text/plain": [
       "True"
      ]
     },
     "execution_count": 7,
     "metadata": {},
     "output_type": "execute_result"
    }
   ],
   "source": [
    "check_anagram_sort(stringa=stringa, stringb=stringb)"
   ]
  },
  {
   "cell_type": "code",
   "execution_count": 8,
   "metadata": {},
   "outputs": [
    {
     "data": {
      "text/plain": [
       "False"
      ]
     },
     "execution_count": 8,
     "metadata": {},
     "output_type": "execute_result"
    }
   ],
   "source": [
    "check_anagram_hash(stringa=not_stringa, stringb=not_stringb)"
   ]
  },
  {
   "cell_type": "code",
   "execution_count": 9,
   "metadata": {},
   "outputs": [
    {
     "data": {
      "text/plain": [
       "False"
      ]
     },
     "execution_count": 9,
     "metadata": {},
     "output_type": "execute_result"
    }
   ],
   "source": [
    "check_anagram_hash_efficient(stringa=not_stringa, stringb=not_stringb)"
   ]
  },
  {
   "cell_type": "code",
   "execution_count": 10,
   "metadata": {},
   "outputs": [
    {
     "data": {
      "text/plain": [
       "False"
      ]
     },
     "execution_count": 10,
     "metadata": {},
     "output_type": "execute_result"
    }
   ],
   "source": [
    "check_anagram_sort(stringa=not_stringa, stringb=not_stringb)"
   ]
  },
  {
   "cell_type": "code",
   "execution_count": 11,
   "metadata": {},
   "outputs": [
    {
     "data": {
      "text/plain": [
       "False"
      ]
     },
     "execution_count": 11,
     "metadata": {},
     "output_type": "execute_result"
    }
   ],
   "source": [
    "check_anagram_sort(stringa=not_stringa2, stringb=not_stringb2)"
   ]
  },
  {
   "cell_type": "code",
   "execution_count": null,
   "metadata": {},
   "outputs": [],
   "source": []
  }
 ],
 "metadata": {
  "kernelspec": {
   "display_name": "Python 3",
   "language": "python",
   "name": "python3"
  },
  "language_info": {
   "codemirror_mode": {
    "name": "ipython",
    "version": 3
   },
   "file_extension": ".py",
   "mimetype": "text/x-python",
   "name": "python",
   "nbconvert_exporter": "python",
   "pygments_lexer": "ipython3",
   "version": "3.7.4"
  }
 },
 "nbformat": 4,
 "nbformat_minor": 4
}
