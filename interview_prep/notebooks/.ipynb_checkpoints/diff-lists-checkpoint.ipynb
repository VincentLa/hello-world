{
 "cells": [
  {
   "cell_type": "markdown",
   "metadata": {},
   "source": [
    "# Diff Lists\n",
    "\n",
    "Find the difference between two unsorted sets (lists ). Interviewer eventually revealed that he wanted a solution in O(n) time."
   ]
  },
  {
   "cell_type": "code",
   "execution_count": 1,
   "metadata": {},
   "outputs": [],
   "source": [
    "def diff_list_for_loop(lista, listb):\n",
    "    \"\"\"\n",
    "    Return the difference between two lists using for loop\n",
    "    \n",
    "    Runtime: O(n^2)\n",
    "    Note, doesn't work with duplicates\n",
    "    \"\"\"\n",
    "    diff_list = []\n",
    "    for item in lista:\n",
    "        if item not in listb:\n",
    "            diff_list.append(item)\n",
    "    \n",
    "    for item in listb:\n",
    "        if item not in lista:\n",
    "            diff_list.append(item)\n",
    "    \n",
    "    return diff_list"
   ]
  },
  {
   "cell_type": "code",
   "execution_count": 2,
   "metadata": {},
   "outputs": [],
   "source": [
    "def diff_list_sets(lista, listb):\n",
    "    \"\"\"\n",
    "    Return the difference between two lists using sets\n",
    "    \n",
    "    Runtime: O(n) (https://www.geeksforgeeks.org/internal-working-of-set-in-python/) because I think \n",
    "    the internal structure is a hash table?\n",
    "    \"\"\"\n",
    "#     diff_list = list(set(lista) - set(listb))  # Only elements in a not in b\n",
    "    diff_list = list(set(lista) ^ set(listb))  # ^ is symmetric difference\n",
    "    return diff_list"
   ]
  },
  {
   "cell_type": "code",
   "execution_count": 21,
   "metadata": {},
   "outputs": [],
   "source": [
    "def diff_list(lista, listb):\n",
    "    \"\"\"\n",
    "    Return the difference between two lists using hash table\n",
    "    \n",
    "    Runtime: O(n)\n",
    "    \"\"\"\n",
    "    hash_lookup = {}\n",
    "    diff_list = []\n",
    "    for item in lista:\n",
    "        \"\"\"Add items from lista to hash lookup\"\"\"\n",
    "        if item not in hash_lookup:\n",
    "            \"\"\"If item is not in hash lookup then add it, initializing count to 1 lista\"\"\"\n",
    "            hash_lookup[item] = [1, 0]\n",
    "        else:\n",
    "            \"\"\"If item does exist, then auto increment count for lista by 1\"\"\"\n",
    "            hash_lookup[item][0] += 1\n",
    "    \n",
    "    for item in listb:\n",
    "        \"\"\"Add items from listb to hash lookup\"\"\"\n",
    "        if item not in hash_lookup:\n",
    "            \"\"\"If item is not in hash lookup then add it, initializing count to 1 for listb\"\"\"\n",
    "            hash_lookup[item] = [0, 1]\n",
    "        else:\n",
    "            \"\"\"If item does exist, then auto increment count for listb by 1\"\"\"\n",
    "            hash_lookup[item][1] += 1\n",
    "            \n",
    "    for item, diff in hash_lookup.items():\n",
    "        if diff[0] - diff[1] == 0:\n",
    "            \"\"\"If no diff then don't do anything\"\"\"\n",
    "            continue\n",
    "        else:\n",
    "            \"\"\"If diff, concat to diff_list based on the difference\"\"\"\n",
    "            diff_list += [item] * abs(diff[0] - diff[1])\n",
    "    \n",
    "    return diff_list"
   ]
  },
  {
   "cell_type": "markdown",
   "metadata": {},
   "source": [
    "## Test Cases"
   ]
  },
  {
   "cell_type": "code",
   "execution_count": 22,
   "metadata": {},
   "outputs": [],
   "source": [
    "lista = ['a', 'c', 'd', 1, 5, 2]\n",
    "listb = ['a', 'b', 'd', 1, 2, 2, 3]"
   ]
  },
  {
   "cell_type": "code",
   "execution_count": 23,
   "metadata": {},
   "outputs": [
    {
     "data": {
      "text/plain": [
       "['c', 5, 'b', 3]"
      ]
     },
     "execution_count": 23,
     "metadata": {},
     "output_type": "execute_result"
    }
   ],
   "source": [
    "diff_list_for_loop(lista=lista, listb=listb)"
   ]
  },
  {
   "cell_type": "code",
   "execution_count": 24,
   "metadata": {},
   "outputs": [
    {
     "data": {
      "text/plain": [
       "[3, 'c', 'b', 5]"
      ]
     },
     "execution_count": 24,
     "metadata": {},
     "output_type": "execute_result"
    }
   ],
   "source": [
    "diff_list_sets(lista=lista, listb=listb)"
   ]
  },
  {
   "cell_type": "code",
   "execution_count": 25,
   "metadata": {},
   "outputs": [
    {
     "data": {
      "text/plain": [
       "['c', 5, 2, 'b', 3]"
      ]
     },
     "execution_count": 25,
     "metadata": {},
     "output_type": "execute_result"
    }
   ],
   "source": [
    "diff_list(lista=lista, listb=listb)"
   ]
  }
 ],
 "metadata": {
  "kernelspec": {
   "display_name": "Python 3",
   "language": "python",
   "name": "python3"
  },
  "language_info": {
   "codemirror_mode": {
    "name": "ipython",
    "version": 3
   },
   "file_extension": ".py",
   "mimetype": "text/x-python",
   "name": "python",
   "nbconvert_exporter": "python",
   "pygments_lexer": "ipython3",
   "version": "3.7.4"
  }
 },
 "nbformat": 4,
 "nbformat_minor": 4
}
