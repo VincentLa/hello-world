{
 "cells": [
  {
   "cell_type": "code",
   "execution_count": 1,
   "metadata": {},
   "outputs": [
    {
     "data": {
      "text/plain": [
       "<sqlalchemy.engine.result.ResultProxy at 0x10e0ca2b0>"
      ]
     },
     "execution_count": 1,
     "metadata": {},
     "output_type": "execute_result"
    }
   ],
   "source": [
    "import datetime\n",
    "import itertools\n",
    "import random\n",
    "\n",
    "import names\n",
    "import numpy as np\n",
    "import pandas as pd\n",
    "import sqlalchemy as sa\n",
    "from sqlalchemy import create_engine\n",
    "\n",
    "\n",
    "connection_string = 'postgres://localhost:5432/VincentLa'\n",
    "engine = create_engine(connection_string)\n",
    "\n",
    "SCHEMA_NAME = 'tutorial_data_ingest'\n",
    "engine.execute('CREATE SCHEMA IF NOT EXISTS ' + SCHEMA_NAME)"
   ]
  },
  {
   "cell_type": "markdown",
   "metadata": {
    "collapsed": true
   },
   "source": [
    "# Generate Data for Anomaly Detection Example"
   ]
  },
  {
   "cell_type": "markdown",
   "metadata": {
    "collapsed": true
   },
   "source": [
    "This section generates the data for a case study that we will present. In particular, we will generate some claims data to look at. Next, need to alter how we generate random procedure codes so that some doctors really are more likely to upcode."
   ]
  },
  {
   "cell_type": "code",
   "execution_count": 2,
   "metadata": {},
   "outputs": [],
   "source": [
    "def draw_random_int():\n",
    "    \"\"\"Draw a random integer from a random normal distribution\"\"\"\n",
    "    number = np.random.normal(100, 60)\n",
    "    if number < 1:\n",
    "        return 1\n",
    "    else:\n",
    "        return int(round(number))"
   ]
  },
  {
   "cell_type": "code",
   "execution_count": 6,
   "metadata": {},
   "outputs": [],
   "source": [
    "num_doctors = 1500\n",
    "\n",
    "upcoders = [0.05, 0.1, 0.3, 0.3, 0.25]\n",
    "typicalcoders = [0.025, 0.075, 0.4, 0.4, 0.1]\n",
    "highupcoders = [0.075, 0.075, 0.075, 0.075, 0.7]\n",
    "\n",
    "# Create list of doctor names\n",
    "# Create number of encounters for each doctor\n",
    "# Create personid for each encounter\n",
    "drs = ['Dr. ' + names.get_full_name() for i in range(0, num_doctors)]\n",
    "num_of_encounters = [draw_random_int() for i in range(0, num_doctors)]\n",
    "personid = [random.randint(1, 25000) for i in range(0, sum(num_of_encounters))]\n",
    "procedure_map = {\n",
    "    1: 'E/M, Lowest Intensity',\n",
    "    2: 'E/M, Second Lowest Intensity',\n",
    "    3: 'E/M, Medium Intensity',\n",
    "    4: 'E/M, High Intensity',\n",
    "    5: 'E/M, Highest Intensity',\n",
    "}\n",
    "\n",
    "paid_map = {\n",
    "    1: 30,\n",
    "    2: 70,\n",
    "    3: 100,\n",
    "    4: 150,\n",
    "    5: 190,\n",
    "}\n",
    "\n",
    "doctors = list(itertools.chain(*[[drs[i]] * num_of_encounters[i] for i in range(0, len(num_of_encounters))]))\n",
    "\n",
    "d = {\n",
    "    'servicing_provider_npi': doctors,\n",
    "    'personid': personid,\n",
    "}\n",
    "df = pd.DataFrame(d)\n",
    "\n",
    "procedure_codes = []\n",
    "for i in df.index:\n",
    "    if drs.index(df.loc[i, 'servicing_provider_npi']) % 100 < 20:\n",
    "        procedure_codes.append(np.random.choice(np.arange(1, 6), p=upcoders))\n",
    "    elif drs.index(df.loc[i, 'servicing_provider_npi']) % 100 == 20:\n",
    "        procedure_codes.append(np.random.choice(np.arange(1, 6), p=highupcoders))\n",
    "    else:\n",
    "        procedure_codes.append(np.random.choice(np.arange(1, 6), p=typicalcoders))\n",
    "procedure_codes = np.asarray(procedure_codes)\n",
    "\n",
    "df['procedure_code'] = procedure_codes\n",
    "df['procedure_name'] = df['procedure_code'].map(procedure_map)\n",
    "df['paid_amount'] = df['procedure_code'].map(paid_map)"
   ]
  },
  {
   "cell_type": "code",
   "execution_count": 7,
   "metadata": {},
   "outputs": [
    {
     "data": {
      "text/html": [
       "<div>\n",
       "<table border=\"1\" class=\"dataframe\">\n",
       "  <thead>\n",
       "    <tr style=\"text-align: right;\">\n",
       "      <th></th>\n",
       "      <th>personid</th>\n",
       "      <th>servicing_provider_npi</th>\n",
       "      <th>procedure_code</th>\n",
       "      <th>procedure_name</th>\n",
       "      <th>paid_amount</th>\n",
       "    </tr>\n",
       "  </thead>\n",
       "  <tbody>\n",
       "    <tr>\n",
       "      <th>0</th>\n",
       "      <td>14443</td>\n",
       "      <td>Dr. Robert Banks</td>\n",
       "      <td>5</td>\n",
       "      <td>E/M, Highest Intensity</td>\n",
       "      <td>190</td>\n",
       "    </tr>\n",
       "    <tr>\n",
       "      <th>1</th>\n",
       "      <td>10983</td>\n",
       "      <td>Dr. Michael Ambrose</td>\n",
       "      <td>3</td>\n",
       "      <td>E/M, Medium Intensity</td>\n",
       "      <td>100</td>\n",
       "    </tr>\n",
       "    <tr>\n",
       "      <th>2</th>\n",
       "      <td>10361</td>\n",
       "      <td>Dr. Michael Ambrose</td>\n",
       "      <td>1</td>\n",
       "      <td>E/M, Lowest Intensity</td>\n",
       "      <td>30</td>\n",
       "    </tr>\n",
       "    <tr>\n",
       "      <th>3</th>\n",
       "      <td>8139</td>\n",
       "      <td>Dr. Michael Ambrose</td>\n",
       "      <td>5</td>\n",
       "      <td>E/M, Highest Intensity</td>\n",
       "      <td>190</td>\n",
       "    </tr>\n",
       "    <tr>\n",
       "      <th>4</th>\n",
       "      <td>23252</td>\n",
       "      <td>Dr. Michael Ambrose</td>\n",
       "      <td>5</td>\n",
       "      <td>E/M, Highest Intensity</td>\n",
       "      <td>190</td>\n",
       "    </tr>\n",
       "  </tbody>\n",
       "</table>\n",
       "</div>"
      ],
      "text/plain": [
       "   personid servicing_provider_npi  procedure_code          procedure_name  \\\n",
       "0     14443       Dr. Robert Banks               5  E/M, Highest Intensity   \n",
       "1     10983    Dr. Michael Ambrose               3   E/M, Medium Intensity   \n",
       "2     10361    Dr. Michael Ambrose               1   E/M, Lowest Intensity   \n",
       "3      8139    Dr. Michael Ambrose               5  E/M, Highest Intensity   \n",
       "4     23252    Dr. Michael Ambrose               5  E/M, Highest Intensity   \n",
       "\n",
       "   paid_amount  \n",
       "0          190  \n",
       "1          100  \n",
       "2           30  \n",
       "3          190  \n",
       "4          190  "
      ]
     },
     "execution_count": 7,
     "metadata": {},
     "output_type": "execute_result"
    }
   ],
   "source": [
    "df.head()"
   ]
  },
  {
   "cell_type": "code",
   "execution_count": 5,
   "metadata": {},
   "outputs": [],
   "source": [
    "df.to_sql('claim_lines', engine, schema=SCHEMA_NAME, index=False, if_exists='replace')"
   ]
  },
  {
   "cell_type": "code",
   "execution_count": null,
   "metadata": {},
   "outputs": [],
   "source": []
  }
 ],
 "metadata": {
  "kernelspec": {
   "display_name": "Python 3",
   "language": "python",
   "name": "python3"
  },
  "language_info": {
   "codemirror_mode": {
    "name": "ipython",
    "version": 3
   },
   "file_extension": ".py",
   "mimetype": "text/x-python",
   "name": "python",
   "nbconvert_exporter": "python",
   "pygments_lexer": "ipython3",
   "version": "3.6.2"
  }
 },
 "nbformat": 4,
 "nbformat_minor": 1
}
