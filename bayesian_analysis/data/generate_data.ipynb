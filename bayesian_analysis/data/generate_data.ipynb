{
 "cells": [
  {
   "cell_type": "code",
   "execution_count": 1,
   "metadata": {},
   "outputs": [
    {
     "data": {
      "text/plain": [
       "<sqlalchemy.engine.result.ResultProxy at 0x108cd17f0>"
      ]
     },
     "execution_count": 1,
     "metadata": {},
     "output_type": "execute_result"
    }
   ],
   "source": [
    "import datetime\n",
    "import itertools\n",
    "import random\n",
    "\n",
    "import names\n",
    "import numpy as np\n",
    "import pandas as pd\n",
    "import sqlalchemy as sa\n",
    "from sqlalchemy import create_engine\n",
    "from pandas.io.sql import SQLTable\n",
    "\n",
    "\n",
    "def _execute_insert(self, conn, keys, data_iter):\n",
    "    \"\"\"Optional, but useful: helps Pandas write tables against Postgres much faster.\n",
    "    See https://github.com/pydata/pandas/issues/8953 for more info\n",
    "    \"\"\"\n",
    "    print(\"Using monkey-patched _execute_insert\")\n",
    "    data = [dict((k, v) for k, v in zip(keys, row)) for row in data_iter]\n",
    "    conn.execute(self.insert_statement().values(data))\n",
    "\n",
    "SQLTable._execute_insert = _execute_insert\n",
    "\n",
    "\n",
    "connection_string = 'postgres://localhost:5432/VincentLa'\n",
    "engine = create_engine(connection_string)\n",
    "\n",
    "SCHEMA_NAME = 'tutorial_data_ingest'\n",
    "engine.execute('CREATE SCHEMA IF NOT EXISTS ' + SCHEMA_NAME)"
   ]
  },
  {
   "cell_type": "markdown",
   "metadata": {
    "collapsed": true
   },
   "source": [
    "# Generate Data for Anomaly Detection Example"
   ]
  },
  {
   "cell_type": "markdown",
   "metadata": {
    "collapsed": true
   },
   "source": [
    "This section generates the data for a case study that we will present. In particular, we will generate some claims data to look at. Next, need to alter how we generate random procedure codes so that some doctors really are more likely to upcode."
   ]
  },
  {
   "cell_type": "code",
   "execution_count": 2,
   "metadata": {},
   "outputs": [],
   "source": [
    "def draw_random_int():\n",
    "    \"\"\"Draw a random integer from a random normal distribution\"\"\"\n",
    "    i = np.random.uniform()\n",
    "    if i <= 0.1:\n",
    "        number = np.random.normal(10, 5)\n",
    "    else:\n",
    "        number = np.random.normal(200, 60)   \n",
    "        \n",
    "    if number < 1:\n",
    "        return 1\n",
    "    else:\n",
    "        return int(round(number))\n",
    "    "
   ]
  },
  {
   "cell_type": "code",
   "execution_count": 3,
   "metadata": {},
   "outputs": [],
   "source": [
    "def draw_distribution_codes(spec, lvl1, lvl2, lvl3, lvl4, lvl5):\n",
    "    \"\"\"Given a probability distribution for E/M codes, returns a similar, but slightly\n",
    "    \n",
    "    adjusted probability distribution to introduce randomness and flexibility.\n",
    "    \"\"\"\n",
    "    if spec == 'Cardiologist':\n",
    "        lvl5 += 0.2\n",
    "    elif spec == 'Infectious Disease':\n",
    "        lvl5 += 0.1\n",
    "    elif spec == 'Other Specialty':\n",
    "        lvl5 += 0.05\n",
    "    \n",
    "    distrib = [lvl1, lvl2, lvl3, lvl4, lvl5]\n",
    "    new_distrib = []\n",
    "    for l in distrib:\n",
    "        number = np.random.normal(l, l / 4)\n",
    "        if number < 0:\n",
    "            number = 0\n",
    "        elif number > 1:\n",
    "            number = 1\n",
    "        else:\n",
    "            number = number\n",
    "        new_distrib.append(number)\n",
    "    return [i / sum(new_distrib) for i in new_distrib]"
   ]
  },
  {
   "cell_type": "code",
   "execution_count": 4,
   "metadata": {},
   "outputs": [],
   "source": [
    "def draw_specialty():\n",
    "    \"\"\"Draw specialty given some index\"\"\"\n",
    "    x = np.random.uniform()\n",
    "    if x <= 0.6:\n",
    "        return 'Primary Care'\n",
    "    elif x <= 0.75:\n",
    "        return 'Cardiologist'\n",
    "    elif x <= 0.85:\n",
    "        return 'Infectious Disease'\n",
    "    else:\n",
    "        return 'Other Specialty'"
   ]
  },
  {
   "cell_type": "code",
   "execution_count": 5,
   "metadata": {},
   "outputs": [],
   "source": [
    "num_doctors = 1500\n",
    "\n",
    "upcoders = {\n",
    "    'lvl1': 0.025,\n",
    "    'lvl2': 0.025,\n",
    "    'lvl3': 0.20,\n",
    "    'lvl4': 0.45,\n",
    "    'lvl5': 0.30\n",
    "}\n",
    "\n",
    "typicalcoders = {\n",
    "    'lvl1': 0.025,\n",
    "    'lvl2': 0.075,\n",
    "    'lvl3': 0.4,\n",
    "    'lvl4': 0.4,\n",
    "    'lvl5': 0.1\n",
    "}\n",
    "highupcoders = {\n",
    "    'lvl1': 0.025,\n",
    "    'lvl2': 0.025,\n",
    "    'lvl3': 0.025,\n",
    "    'lvl4': 0.025,\n",
    "    'lvl5': 0.9\n",
    "}\n",
    "\n",
    "# Create list of doctor names\n",
    "# Create number of encounters for each doctor\n",
    "# Create personid for each encounter\n",
    "drs = ['Dr. ' + names.get_full_name() for i in range(0, num_doctors)]\n",
    "specialties = [draw_specialty() for i in range(0, num_doctors)]\n",
    "num_of_encounters = [draw_random_int() for i in range(0, num_doctors)]\n",
    "personid = [random.randint(1, 25000) for i in range(0, sum(num_of_encounters))]\n",
    "procedure_map = {\n",
    "    1: 'E/M, Lowest Intensity',\n",
    "    2: 'E/M, Second Lowest Intensity',\n",
    "    3: 'E/M, Medium Intensity',\n",
    "    4: 'E/M, High Intensity',\n",
    "    5: 'E/M, Highest Intensity',\n",
    "}\n",
    "\n",
    "paid_map = {\n",
    "    1: 30,\n",
    "    2: 50,\n",
    "    3: 80,\n",
    "    4: 110,\n",
    "    5: 230,\n",
    "}\n",
    "\n",
    "doctors = list(itertools.chain(*[[drs[i]] * num_of_encounters[i] for i in range(0, len(num_of_encounters))]))\n",
    "dr_specialties = list(itertools.chain(*[[specialties[i]] * num_of_encounters[i] for i in range(0, len(num_of_encounters))]))\n",
    "\n",
    "d = {\n",
    "    'servicing_provider_npi': doctors,\n",
    "    'specialty': dr_specialties,\n",
    "    'personid': personid,\n",
    "}\n",
    "df = pd.DataFrame(d)\n",
    "\n",
    "procedure_codes = []\n",
    "for i in df.index:\n",
    "    spec = df.loc[i, 'specialty']\n",
    "    if drs.index(df.loc[i, 'servicing_provider_npi']) % 100 < 20:\n",
    "        procedure_codes.append(\n",
    "            np.random.choice(np.arange(1, 6), p=draw_distribution_codes(spec, **upcoders)))\n",
    "    elif drs.index(df.loc[i, 'servicing_provider_npi']) % 100 <= 24:\n",
    "        procedure_codes.append(\n",
    "            np.random.choice(np.arange(1, 6), p=draw_distribution_codes(spec, **highupcoders)))\n",
    "    else:\n",
    "        procedure_codes.append(\n",
    "            np.random.choice(np.arange(1, 6), p=draw_distribution_codes(spec, **typicalcoders)))\n",
    "procedure_codes = np.asarray(procedure_codes)\n",
    "\n",
    "df['procedure_code'] = procedure_codes\n",
    "df['procedure_name'] = df['procedure_code'].map(procedure_map)\n",
    "df['paid_amount'] = df['procedure_code'].map(paid_map)"
   ]
  },
  {
   "cell_type": "code",
   "execution_count": 6,
   "metadata": {},
   "outputs": [
    {
     "data": {
      "text/html": [
       "<div>\n",
       "<table border=\"1\" class=\"dataframe\">\n",
       "  <thead>\n",
       "    <tr style=\"text-align: right;\">\n",
       "      <th></th>\n",
       "      <th>personid</th>\n",
       "      <th>servicing_provider_npi</th>\n",
       "      <th>specialty</th>\n",
       "      <th>procedure_code</th>\n",
       "      <th>procedure_name</th>\n",
       "      <th>paid_amount</th>\n",
       "    </tr>\n",
       "  </thead>\n",
       "  <tbody>\n",
       "    <tr>\n",
       "      <th>0</th>\n",
       "      <td>2673</td>\n",
       "      <td>Dr. Marlene Ahlstrom</td>\n",
       "      <td>Other Specialty</td>\n",
       "      <td>5</td>\n",
       "      <td>E/M, Highest Intensity</td>\n",
       "      <td>230</td>\n",
       "    </tr>\n",
       "    <tr>\n",
       "      <th>1</th>\n",
       "      <td>7567</td>\n",
       "      <td>Dr. Marlene Ahlstrom</td>\n",
       "      <td>Other Specialty</td>\n",
       "      <td>3</td>\n",
       "      <td>E/M, Medium Intensity</td>\n",
       "      <td>80</td>\n",
       "    </tr>\n",
       "    <tr>\n",
       "      <th>2</th>\n",
       "      <td>9510</td>\n",
       "      <td>Dr. Marlene Ahlstrom</td>\n",
       "      <td>Other Specialty</td>\n",
       "      <td>3</td>\n",
       "      <td>E/M, Medium Intensity</td>\n",
       "      <td>80</td>\n",
       "    </tr>\n",
       "    <tr>\n",
       "      <th>3</th>\n",
       "      <td>17106</td>\n",
       "      <td>Dr. Marlene Ahlstrom</td>\n",
       "      <td>Other Specialty</td>\n",
       "      <td>3</td>\n",
       "      <td>E/M, Medium Intensity</td>\n",
       "      <td>80</td>\n",
       "    </tr>\n",
       "    <tr>\n",
       "      <th>4</th>\n",
       "      <td>24499</td>\n",
       "      <td>Dr. Marlene Ahlstrom</td>\n",
       "      <td>Other Specialty</td>\n",
       "      <td>5</td>\n",
       "      <td>E/M, Highest Intensity</td>\n",
       "      <td>230</td>\n",
       "    </tr>\n",
       "  </tbody>\n",
       "</table>\n",
       "</div>"
      ],
      "text/plain": [
       "   personid servicing_provider_npi        specialty  procedure_code  \\\n",
       "0      2673   Dr. Marlene Ahlstrom  Other Specialty               5   \n",
       "1      7567   Dr. Marlene Ahlstrom  Other Specialty               3   \n",
       "2      9510   Dr. Marlene Ahlstrom  Other Specialty               3   \n",
       "3     17106   Dr. Marlene Ahlstrom  Other Specialty               3   \n",
       "4     24499   Dr. Marlene Ahlstrom  Other Specialty               5   \n",
       "\n",
       "           procedure_name  paid_amount  \n",
       "0  E/M, Highest Intensity          230  \n",
       "1   E/M, Medium Intensity           80  \n",
       "2   E/M, Medium Intensity           80  \n",
       "3   E/M, Medium Intensity           80  \n",
       "4  E/M, Highest Intensity          230  "
      ]
     },
     "execution_count": 6,
     "metadata": {},
     "output_type": "execute_result"
    }
   ],
   "source": [
    "df.head()"
   ]
  },
  {
   "cell_type": "code",
   "execution_count": 7,
   "metadata": {},
   "outputs": [
    {
     "name": "stdout",
     "output_type": "stream",
     "text": [
      "Using monkey-patched _execute_insert\n"
     ]
    }
   ],
   "source": [
    "df.to_sql('claim_lines', engine, schema=SCHEMA_NAME, index=False, if_exists='replace')"
   ]
  },
  {
   "cell_type": "code",
   "execution_count": null,
   "metadata": {},
   "outputs": [],
   "source": []
  }
 ],
 "metadata": {
  "kernelspec": {
   "display_name": "Python 3",
   "language": "python",
   "name": "python3"
  },
  "language_info": {
   "codemirror_mode": {
    "name": "ipython",
    "version": 3
   },
   "file_extension": ".py",
   "mimetype": "text/x-python",
   "name": "python",
   "nbconvert_exporter": "python",
   "pygments_lexer": "ipython3",
   "version": "3.6.2"
  }
 },
 "nbformat": 4,
 "nbformat_minor": 1
}
