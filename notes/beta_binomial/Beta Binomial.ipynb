{
 "cells": [
  {
   "cell_type": "markdown",
   "metadata": {},
   "source": [
    "# Beta Binomial Distribution"
   ]
  },
  {
   "cell_type": "markdown",
   "metadata": {},
   "source": [
    "A beta binomial distribution is when you have some binomial distribution and the success parameter, $p$,has a beta distribution with shape parameters $\\alpha > 0$ and $\\beta > 0$.\n",
    "\n",
    "In particular, with a binomial distribution, $p$ is assumed to be fixed for successive trials. For the beta-binomial distribution, $p$ changes for each trial.\n",
    "\n",
    "One (very intuitive) way to think about a random variable is when the value of that variable depends on some random process."
   ]
  },
  {
   "cell_type": "code",
   "execution_count": null,
   "metadata": {
    "collapsed": true
   },
   "outputs": [],
   "source": []
  }
 ],
 "metadata": {
  "kernelspec": {
   "display_name": "Python 3",
   "language": "python",
   "name": "python3"
  },
  "language_info": {
   "codemirror_mode": {
    "name": "ipython",
    "version": 3
   },
   "file_extension": ".py",
   "mimetype": "text/x-python",
   "name": "python",
   "nbconvert_exporter": "python",
   "pygments_lexer": "ipython3",
   "version": "3.5.1"
  }
 },
 "nbformat": 4,
 "nbformat_minor": 0
}
