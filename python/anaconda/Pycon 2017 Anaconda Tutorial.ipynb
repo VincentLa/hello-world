{
 "cells": [
  {
   "cell_type": "markdown",
   "metadata": {},
   "source": [
    "# Pycon 2017 Anaconda Tutorial\n",
    "Anaconda is a Python Distribution (set of Python libraries)\n",
    "\n",
    "Think about Anaconda as virtual env for not just python but more generally?\n",
    "http://bit.ly/pc17-dsapps\n",
    "\n",
    "Anaconda Cloud is a place where you can publish stuff along with anaconda environment"
   ]
  },
  {
   "cell_type": "markdown",
   "metadata": {},
   "source": [
    "To create a new conda environment:\n",
    "```\n",
    "conda create -n ana43py36 anaconda python=3.6\n",
    "source activate ana43py36\n",
    "mkdir python-pc17-dsapps\n",
    "cd python-pc17-dsapps\n",
    "```"
   ]
  },
  {
   "cell_type": "code",
   "execution_count": null,
   "metadata": {
    "collapsed": true
   },
   "outputs": [],
   "source": []
  }
 ],
 "metadata": {
  "kernelspec": {
   "display_name": "Python 3",
   "language": "python",
   "name": "python3"
  },
  "language_info": {
   "codemirror_mode": {
    "name": "ipython",
    "version": 3
   },
   "file_extension": ".py",
   "mimetype": "text/x-python",
   "name": "python",
   "nbconvert_exporter": "python",
   "pygments_lexer": "ipython3",
   "version": "3.6.0"
  }
 },
 "nbformat": 4,
 "nbformat_minor": 2
}
