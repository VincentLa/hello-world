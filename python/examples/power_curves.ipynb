{
 "cells": [
  {
   "cell_type": "markdown",
   "metadata": {},
   "source": [
    "# Power Curves"
   ]
  },
  {
   "cell_type": "markdown",
   "metadata": {},
   "source": [
    "## Background"
   ]
  },
  {
   "cell_type": "markdown",
   "metadata": {},
   "source": [
    "Recall that **power** of a hypothesis test is the probability that the test correctly rejects the null hypothesis when the alternative hypothesis is in fact true. \n",
    "\n",
    "$$Power = Pr(\\text{Reject H_0} | \\text{H_A is true})$$\n",
    ",\n",
    "$$Power = 1 - Pr(\\text{Fail to reject H_0} | \\text{H_0 is false})$$\n",
    ", where\n",
    "\n",
    "$$\\beta = Pr(\\text{Fail to reject H_0} | \\text{H_0 is false})$$"
   ]
  },
  {
   "cell_type": "markdown",
   "metadata": {},
   "source": [
    "$\\beta$ is the probability of committing a Type II error.\n",
    "\n",
    "$\\alpha$, the probability of comitting a Type I error, is given by:\n",
    "\n",
    "$$\\alpha = Pr(\\text{Reject H_0} | \\text{H_0 is true})$$"
   ]
  },
  {
   "cell_type": "markdown",
   "metadata": {},
   "source": [
    "Recall that at it's most basic level, **power** is determined by:\n",
    "- significance level ($\\alpha = 0.05$)\n",
    "- power ($\\beta = 0.8$)\n",
    "- sample size (to be determined as part of experimental design, in our case, buy-in from EPA/States)\n",
    "- effect size (can be estimated from literature review)\n",
    "\n",
    "Given any 3 of the above, you can solve for the last. It's also common to generate \"power curves\". In this case, we can fix $\\alpha$ and $\\beta$ and generate curves which tell us for a given sample size, what the minimum detectable effect is."
   ]
  },
  {
   "cell_type": "markdown",
   "metadata": {},
   "source": [
    "## Power Calculation"
   ]
  },
  {
   "cell_type": "code",
   "execution_count": 1,
   "metadata": {},
   "outputs": [
    {
     "name": "stderr",
     "output_type": "stream",
     "text": [
      "/Users/vincentla/.pyenv/versions/3.7.4/envs/epa-risk/lib/python3.7/site-packages/rpy2/robjects/pandas2ri.py:14: FutureWarning: pandas.core.index is deprecated and will be removed in a future version.  The public classes are available in the top-level namespace.\n",
      "  from pandas.core.index import Index as PandasIndex\n",
      "/Users/vincentla/.pyenv/versions/3.7.4/envs/epa-risk/lib/python3.7/site-packages/rpy2/robjects/pandas2ri.py:34: UserWarning: pandas >= 1.0 is not supported.\n",
      "  warnings.warn('pandas >= 1.0 is not supported.')\n"
     ]
    },
    {
     "name": "stdout",
     "output_type": "stream",
     "text": [
      "With a 0.066 baseline DMR Non Receipt SNC Rate, to detect an effect of 0.01, would require 8977 facilities in each group\n"
     ]
    }
   ],
   "source": [
    "import os\n",
    "import pathlib\n",
    "\n",
    "import matplotlib\n",
    "import matplotlib.pyplot as plt\n",
    "import matplotlib.ticker as mtick\n",
    "import numpy as np\n",
    "import pandas as pd\n",
    "import pprint\n",
    "import rpy2\n",
    "from rpy2.robjects import IntVector, pandas2ri\n",
    "from rpy2.robjects.packages import importr\n",
    "import statsmodels.stats.api as sms\n",
    "\n",
    "# Importing R Library\n",
    "psych = importr(\"psych\")\n",
    "\n",
    "%matplotlib inline\n",
    "\n",
    "pd.options.display.max_rows = 999\n",
    "matplotlib.rcParams['figure.figsize'] = [15, 8]\n",
    "\n",
    "WORKING_DIR = os.path.join(str(pathlib.Path.home()), 'sherlock_epa')\n",
    "DATA_DIR = os.path.join(WORKING_DIR, 'Data')\n",
    "\n",
    "# From new analysis independently done with data downloaded 2020-05-03\n",
    "# https://github.com/reglab/epa_risk/blob/epa-103-dmrnr-eda/eda/dmr_non_receipt.R\n",
    "DMR_NON_RECEIPT_RATE = 0.066\n",
    "DELTA = 0.01 # Effect to be estimated from the literature by Anne\n",
    "\n",
    "es = sms.proportion_effectsize(DMR_NON_RECEIPT_RATE, DMR_NON_RECEIPT_RATE - DELTA)\n",
    "n = sms.NormalIndPower().solve_power(es, power=0.8, alpha=0.05, ratio=1)\n",
    "print('With a {} baseline DMR Non Receipt SNC Rate, to detect an effect of {}, would require {} facilities in each group'.format(DMR_NON_RECEIPT_RATE, DELTA, round(n)))\n",
    "      \n",
    "      "
   ]
  },
  {
   "cell_type": "markdown",
   "metadata": {},
   "source": [
    "To [reproduce](https://stats.stackexchange.com/questions/83700/why-do-these-power-functions-for-difference-in-proportions-give-different-answer) in R, notice this gives the same result as [pwr::power.2p.test](https://cran.r-project.org/web/packages/pwr/pwr.pdf) in R."
   ]
  },
  {
   "cell_type": "markdown",
   "metadata": {},
   "source": [
    "```\n",
    "> library(pwr)\n",
    "> p1 = .11\n",
    "> p2 = 0.1\n",
    "> h = 2 * asin(sqrt(p1)) - 2 * asin(sqrt(p2))\n",
    "> pwr.2p.test(h=h, sig.level=0.05, power=0.8)\n",
    "\n",
    "     Difference of proportion power calculation for binomial distribution (arcsine transformation) \n",
    "\n",
    "              h = 0.0326294\n",
    "              n = 14744.1\n",
    "      sig.level = 0.05\n",
    "          power = 0.8\n",
    "    alternative = two.sided\n",
    "\n",
    "NOTE: same sample sizes\n",
    "```"
   ]
  },
  {
   "cell_type": "markdown",
   "metadata": {},
   "source": [
    "Note, this is slightly different than `stats::power.prop.test`\n",
    "\n",
    "```\n",
    "> library(stats)\n",
    "> power.prop.test(p1=0.11, p2=0.10, power=0.8, sig.level=0.05, alternative=\"two.sided\")\n",
    "\n",
    "     Two-sample comparison of proportions power calculation \n",
    "\n",
    "              n = 14750.79\n",
    "             p1 = 0.11\n",
    "             p2 = 0.1\n",
    "      sig.level = 0.05\n",
    "          power = 0.8\n",
    "    alternative = two.sided\n",
    "\n",
    "NOTE: n is number in *each* group\n",
    "```\n",
    "\n",
    "which yields n=14,750. This is due to different in approximation to normal distribution. Overall results are about the same, but could be informative to just go over which assumptions are better?"
   ]
  },
  {
   "cell_type": "markdown",
   "metadata": {},
   "source": [
    "### Example of Power Curve"
   ]
  },
  {
   "cell_type": "markdown",
   "metadata": {},
   "source": [
    "#### Power Calculation For Memo"
   ]
  },
  {
   "cell_type": "code",
   "execution_count": 2,
   "metadata": {},
   "outputs": [
    {
     "name": "stdout",
     "output_type": "stream",
     "text": [
      "   sample_size  deltas_memo\n",
      "0  8976.959982       0.0100\n",
      "1  5629.251025       0.0125\n",
      "2  3827.383089       0.0150\n",
      "3  2750.855098       0.0175\n",
      "4  2058.534454       0.0200\n",
      "5  1588.207979       0.0225\n",
      "6  1254.834035       0.0250\n",
      "7  1010.386585       0.0275\n",
      "8   826.104370       0.0300\n",
      "Remember that these are sample sizes FOR EACH GROUP\n"
     ]
    }
   ],
   "source": [
    "# Deltas to use in memo\n",
    "deltas_memo = np.linspace(0.01, 0.03, 9)\n",
    "effect_sizes = []\n",
    "sample_sizes = []\n",
    "for dm in deltas_memo:\n",
    "    es = sms.proportion_effectsize(DMR_NON_RECEIPT_RATE, DMR_NON_RECEIPT_RATE - dm)\n",
    "    n = sms.NormalIndPower().solve_power(es, power=0.8, alpha=0.05, ratio=1)\n",
    "    effect_sizes.append(es)\n",
    "    sample_sizes.append(n)\n",
    "    \n",
    "df_power = pd.DataFrame({\n",
    "    'sample_size': sample_sizes,\n",
    "    'deltas_memo': deltas_memo,\n",
    "})\n",
    "\n",
    "print(df_power)\n",
    "print('Remember that these are sample sizes FOR EACH GROUP')"
   ]
  },
  {
   "cell_type": "markdown",
   "metadata": {},
   "source": [
    "#### Holding Alpha and Beta Constant\n",
    "Below is an example of a \"power curve\" where alpha and beta are constant. That is, we vary the sample size and then see how the minimum detectable effect varies"
   ]
  },
  {
   "cell_type": "code",
   "execution_count": 3,
   "metadata": {},
   "outputs": [],
   "source": [
    "deltas = np.linspace(DMR_NON_RECEIPT_RATE / 10, DMR_NON_RECEIPT_RATE / 2, 100)"
   ]
  },
  {
   "cell_type": "code",
   "execution_count": 4,
   "metadata": {},
   "outputs": [],
   "source": [
    "effect_sizes = []\n",
    "sample_sizes = []\n",
    "for d in deltas:\n",
    "    es = sms.proportion_effectsize(DMR_NON_RECEIPT_RATE, DMR_NON_RECEIPT_RATE - d)\n",
    "    n = sms.NormalIndPower().solve_power(es, power=0.8, alpha=0.05, ratio=1)\n",
    "    effect_sizes.append(es)\n",
    "    sample_sizes.append(n)"
   ]
  },
  {
   "cell_type": "code",
   "execution_count": 5,
   "metadata": {},
   "outputs": [
    {
     "data": {
      "image/png": "[encoded data removed]",
      "text/plain": [
       "<Figure size 1080x576 with 1 Axes>"
      ]
     },
     "metadata": {
      "needs_background": "light"
     },
     "output_type": "display_data"
    }
   ],
   "source": [
    "ax = plt.subplot()\n",
    "ax.plot(sample_sizes, deltas)\n",
    "plt.ylabel('Percentage Point Reduction in DMR NR Rate')\n",
    "plt.xlabel('Sample Size (In Each Group)')\n",
    "plt.title('Minimum Detectable Effect by Number of Facilities Participating')\n",
    "ax.yaxis.set_major_formatter(mtick.PercentFormatter(1.0))\n",
    "plt.show()"
   ]
  },
  {
   "cell_type": "markdown",
   "metadata": {},
   "source": [
    "#### Holding Alpha and Effect Size Constant\n",
    "Below is a different example of a \"power curve\", this time holding alpha and the effect size constant. This might be a useful interpretation if we ask the question \"assume we want to at least detect this effect size, taken from the literature. How many states/facilities do we need to recruit\"?"
   ]
  },
  {
   "cell_type": "code",
   "execution_count": 6,
   "metadata": {},
   "outputs": [],
   "source": [
    "sample_sizes = np.linspace(10, 40000, 1000)\n",
    "powers = []\n",
    "for n in sample_sizes:\n",
    "    es = sms.proportion_effectsize(DMR_NON_RECEIPT_RATE, DMR_NON_RECEIPT_RATE - DELTA)\n",
    "    power = sms.NormalIndPower().solve_power(es, nobs1=n, power=None, alpha=0.05, ratio=1)\n",
    "    powers.append(power)"
   ]
  },
  {
   "cell_type": "code",
   "execution_count": 7,
   "metadata": {},
   "outputs": [
    {
     "data": {
      "image/png": "[encoded data removed]",
      "text/plain": [
       "<Figure size 1080x576 with 1 Axes>"
      ]
     },
     "metadata": {
      "needs_background": "light"
     },
     "output_type": "display_data"
    }
   ],
   "source": [
    "plt.plot(sample_sizes, powers)\n",
    "plt.ylabel('Power')\n",
    "plt.xlabel('Sample Size')\n",
    "plt.axhline(0.8, linestyle='--', color='red')\n",
    "plt.axvline(sample_sizes[np.argmin(np.abs(np.array(powers) - .8))], linestyle='--', color='red')\n",
    "plt.title('Power Curve with alpha=0.05, delta=0.01')\n",
    "plt.show()"
   ]
  },
  {
   "cell_type": "code",
   "execution_count": 8,
   "metadata": {},
   "outputs": [
    {
     "name": "stdout",
     "output_type": "stream",
     "text": [
      "\n",
      "The sample size that corresponds to power = 0.8 is 8976.726726726727.\n",
      "\n",
      "This means we would have to recruit at least this many facilities in each of the control and treatment groups\n",
      "\n"
     ]
    }
   ],
   "source": [
    "print(\n",
    "\"\"\"\n",
    "The sample size that corresponds to power = 0.8 is {}.\n",
    "\n",
    "This means we would have to recruit at least this many facilities in each of the control and treatment groups\n",
    "\"\"\".format(sample_sizes[np.argmin(np.abs(np.array(powers) - .8))]))"
   ]
  },
  {
   "cell_type": "markdown",
   "metadata": {},
   "source": [
    "In the graph above, we plot a power curve, with $\\alpha = 0.05$ and $\\delta = 0.01$. That is, assume a 1 percentage point decrease in the DMR NR Rate in the treatment group. How does power vary with sample size?"
   ]
  },
  {
   "cell_type": "markdown",
   "metadata": {},
   "source": [
    "## Power Calculation With Multiple Time Periods\n",
    "See [EPA-120](https://reglab.atlassian.net/browse/EPA-120) for more details\n",
    "\n",
    "As a simplified way to calculate power if we have multiple time periods, take the current estimated number of observations required in our current power analysis (which assumes 1 time period; as shown in the above section in this notebook) and scale the number of observations up by the Design Effect (DE), where DE is given by:\n",
    "\n",
    "$$DE = 1 + (n - 1) \\rho$$,\n",
    "\n",
    "where $n$ is the number of observations per cluster and $\\rho$ is the Intracluster Correlation Coefficient (ICC). So if we run this out for 2 quarters, $n = 2$ observations per cluster, 3 quarters, $n = 3$ observations per cluster, etc.\n",
    "\n",
    "Thus,\n",
    "\n",
    "$$\\text{No. of Obs Required} = \\text{(No. of Obs Required Assuming 1 Time Period)} * DE$$,\n",
    "$$\\text{Number of Facilities Required} = \\text{No. of Obs Required} / \\text{No. of Time Periods}$$\n",
    "\n",
    "So the key thing here is calculating $\\rho$, which we can do given historical data.\n",
    "\n",
    "Note, this is a simplified assumption. Calculating power for clustered designs gets really complicated. See this [memo](https://reg-lab.slack.com/archives/C8JL1LH6W/p1586453488014800) shared by Sandy/Dan for more info. \n",
    "\n",
    "At it's core ICC is the between-cluster variability divided by the [sum of the within-cluster and between-cluster variabilities](https://www.ncbi.nlm.nih.gov/pmc/articles/PMC1466680/). Put another way, it's the proportion of variance that can be explained by between-cluster variance:\n",
    "\n",
    "$$\\rho = \\frac{\\sigma_b^2}{\\sigma_b^2 + \\sigma_w^2}$$,\n",
    "- $\\sigma_b^2$: Between Variance\n",
    "- $\\sigma_w^2$: Within Variance\n",
    "\n",
    "When the within cluster variance is small, than $\\rho \\sim 1$, and $DE \\sim 1 + (n-1)$ which means the additional observations don't really help us. When the within cluster variance is very large, then $\\rho \\sim 0$, and thus $DE = 1$ so the additional observations help us fully."
   ]
  },
  {
   "cell_type": "markdown",
   "metadata": {},
   "source": [
    "### Calculating ICC"
   ]
  },
  {
   "cell_type": "code",
   "execution_count": 9,
   "metadata": {},
   "outputs": [],
   "source": [
    "def calculate_icc(data, time_periods):\n",
    "    \"\"\"\n",
    "    Calculate ICC\n",
    "    \n",
    "    Keyword Args:\n",
    "      data: DataFrame of the RNC History By Facility. The key columns you need are NPDES_ID and dmrnr.flag\n",
    "            Also assumes that you've already subsetted to the time periods necessary and only keep \n",
    "            facilities with the same number of observations (so remove any facilities that don't appear in all\n",
    "            time periods)\n",
    "      time_periods: Number of Time Periods to consider (so number of observations per facility)\n",
    "      \n",
    "    Mostly taken from https://stackoverflow.com/questions/40965579/intraclass-correlation-in-python-module\n",
    "    \"\"\"\n",
    "    values = rpy2.robjects.r.matrix(\n",
    "        IntVector(data['dmrnr.flag']),\n",
    "        ncol=time_periods, byrow=True\n",
    "    )\n",
    "\n",
    "    try:\n",
    "        icc = psych.ICC(values)\n",
    "    except:\n",
    "        print('Could not calculate ICC for this data')\n",
    "        return np.nan, np.nan, np.nan\n",
    "    else:\n",
    "        # Convert to Pandas DataFrame\n",
    "        icc_df = pandas2ri.rpy2py(icc[0])\n",
    "\n",
    "        return icc_df.loc[icc_df.type == 'ICC1']['ICC'],\\\n",
    "               icc_df.loc[icc_df.type == 'ICC2']['ICC'],\\\n",
    "               icc_df.loc[icc_df.type == 'ICC3']['ICC']\n"
   ]
  },
  {
   "cell_type": "code",
   "execution_count": 10,
   "metadata": {},
   "outputs": [],
   "source": [
    "def calculate_icc_over_time_periods(data):\n",
    "    \"\"\"\n",
    "    Calculate ICC Over Various Time Periods\n",
    "    \"\"\"\n",
    "    quarters = data['YEARQTR'].unique()\n",
    "    quarters = np.sort(quarters)\n",
    "    \n",
    "    time_period_num_quarters = [2, 3, 4]\n",
    "    results = {\n",
    "        2: {\n",
    "            'icc1': np.array([]),\n",
    "            'icc2': np.array([]),\n",
    "            'icc3': np.array([]),\n",
    "        },\n",
    "        3: {\n",
    "            'icc1': np.array([]),\n",
    "            'icc2': np.array([]),\n",
    "            'icc3': np.array([]),\n",
    "        },\n",
    "        4: {\n",
    "            'icc1': np.array([]),\n",
    "            'icc2': np.array([]),\n",
    "            'icc3': np.array([]),\n",
    "        },\n",
    "    }\n",
    "    \n",
    "    for q in range(len(time_period_num_quarters)):\n",
    "        \"\"\"Iterate over Time Periods\"\"\"\n",
    "        for i in range(len(quarters) - (time_period_num_quarters[q] - 1)):\n",
    "            \"\"\"\n",
    "            Iterate each possible combination\n",
    "\n",
    "            For example, if the number of quarters is 2, iterate over\n",
    "              2018Q1 - 2018Q2\n",
    "              2018Q2 - 2018Q3 \n",
    "              ...\n",
    "              2019Q3 - 2019Q4        \n",
    "            \"\"\"\n",
    "            data_sub = data.loc[\n",
    "                (data['YEARQTR'] >= quarters[i]) &\\\n",
    "                (data['YEARQTR'] <= quarters[i + (time_period_num_quarters[q] - 1)])]\n",
    "            # This filters to only keep facilities that are present in all of the quarters\n",
    "            # The purpose of this is to filter out facilities who may not have to report in every period, which we would\n",
    "            # want to exclude from the analysis anyway\n",
    "            data_sub = data_sub.loc[data_sub['NPDES_ID'].isin(\n",
    "                data_sub['NPDES_ID'].value_counts().loc[data_sub['NPDES_ID'].value_counts() == time_period_num_quarters[q]].index)]\n",
    "            data_sub.sort_values(by=['NPDES_ID', 'YEARQTR'], inplace=True)\n",
    "\n",
    "            icc1, icc2, icc3 = calculate_icc(data=data_sub, time_periods=time_period_num_quarters[q])\n",
    "\n",
    "            results[time_period_num_quarters[q]]['icc1'] = np.append(results[time_period_num_quarters[q]]['icc1'], icc1)\n",
    "            results[time_period_num_quarters[q]]['icc2'] = np.append(results[time_period_num_quarters[q]]['icc2'], icc2)\n",
    "            results[time_period_num_quarters[q]]['icc3'] = np.append(results[time_period_num_quarters[q]]['icc3'], icc3)\n",
    "    return results"
   ]
  },
  {
   "cell_type": "code",
   "execution_count": 11,
   "metadata": {},
   "outputs": [],
   "source": [
    "# Read CSV\n",
    "# Subset to only after 2018 Q1 because of historical rewriting after two years\n",
    "# Subset to only NetDMR States\n",
    "# For now only include permits that exist in both of the two quarters\n",
    "df = pd.read_csv(os.path.join(DATA_DIR, 'output', 'rnc_history_facility_2020-04-28_18-02-52.csv'))\n",
    "df = df.loc[df['netdmr'] == 1]\n",
    "df = df.loc[df['YEARQTR'] >= 20181]\n",
    "df.sort_values(by=['NPDES_ID', 'YEARQTR'], inplace=True)"
   ]
  },
  {
   "cell_type": "code",
   "execution_count": 12,
   "metadata": {},
   "outputs": [
    {
     "data": {
      "text/html": [
       "<div>\n",
       "<style scoped>\n",
       "    .dataframe tbody tr th:only-of-type {\n",
       "        vertical-align: middle;\n",
       "    }\n",
       "\n",
       "    .dataframe tbody tr th {\n",
       "        vertical-align: top;\n",
       "    }\n",
       "\n",
       "    .dataframe thead th {\n",
       "        text-align: right;\n",
       "    }\n",
       "</style>\n",
       "<table border=\"1\" class=\"dataframe\">\n",
       "  <thead>\n",
       "    <tr style=\"text-align: right;\">\n",
       "      <th></th>\n",
       "      <th>NPDES_ID</th>\n",
       "      <th>YEARQTR</th>\n",
       "      <th>HLRNC</th>\n",
       "      <th>NUME90Q</th>\n",
       "      <th>NUMCVDT</th>\n",
       "      <th>NUMSVCD</th>\n",
       "      <th>NUMPSCH</th>\n",
       "      <th>state_code</th>\n",
       "      <th>state</th>\n",
       "      <th>netdmr</th>\n",
       "      <th>dmrnr.flag</th>\n",
       "    </tr>\n",
       "  </thead>\n",
       "  <tbody>\n",
       "    <tr>\n",
       "      <th>60</th>\n",
       "      <td>AK0000272</td>\n",
       "      <td>20181</td>\n",
       "      <td>C</td>\n",
       "      <td>0</td>\n",
       "      <td>0</td>\n",
       "      <td>0</td>\n",
       "      <td>0</td>\n",
       "      <td>AK</td>\n",
       "      <td>Alaska</td>\n",
       "      <td>1.0</td>\n",
       "      <td>0</td>\n",
       "    </tr>\n",
       "    <tr>\n",
       "      <th>61</th>\n",
       "      <td>AK0000272</td>\n",
       "      <td>20182</td>\n",
       "      <td>C</td>\n",
       "      <td>0</td>\n",
       "      <td>0</td>\n",
       "      <td>0</td>\n",
       "      <td>0</td>\n",
       "      <td>AK</td>\n",
       "      <td>Alaska</td>\n",
       "      <td>1.0</td>\n",
       "      <td>0</td>\n",
       "    </tr>\n",
       "    <tr>\n",
       "      <th>62</th>\n",
       "      <td>AK0000272</td>\n",
       "      <td>20183</td>\n",
       "      <td>C</td>\n",
       "      <td>0</td>\n",
       "      <td>0</td>\n",
       "      <td>0</td>\n",
       "      <td>0</td>\n",
       "      <td>AK</td>\n",
       "      <td>Alaska</td>\n",
       "      <td>1.0</td>\n",
       "      <td>0</td>\n",
       "    </tr>\n",
       "    <tr>\n",
       "      <th>63</th>\n",
       "      <td>AK0000272</td>\n",
       "      <td>20184</td>\n",
       "      <td>C</td>\n",
       "      <td>0</td>\n",
       "      <td>0</td>\n",
       "      <td>0</td>\n",
       "      <td>0</td>\n",
       "      <td>AK</td>\n",
       "      <td>Alaska</td>\n",
       "      <td>1.0</td>\n",
       "      <td>0</td>\n",
       "    </tr>\n",
       "    <tr>\n",
       "      <th>64</th>\n",
       "      <td>AK0000272</td>\n",
       "      <td>20191</td>\n",
       "      <td>C</td>\n",
       "      <td>0</td>\n",
       "      <td>0</td>\n",
       "      <td>0</td>\n",
       "      <td>0</td>\n",
       "      <td>AK</td>\n",
       "      <td>Alaska</td>\n",
       "      <td>1.0</td>\n",
       "      <td>0</td>\n",
       "    </tr>\n",
       "  </tbody>\n",
       "</table>\n",
       "</div>"
      ],
      "text/plain": [
       "     NPDES_ID  YEARQTR HLRNC  NUME90Q  NUMCVDT  NUMSVCD  NUMPSCH state_code  \\\n",
       "60  AK0000272    20181     C        0        0        0        0         AK   \n",
       "61  AK0000272    20182     C        0        0        0        0         AK   \n",
       "62  AK0000272    20183     C        0        0        0        0         AK   \n",
       "63  AK0000272    20184     C        0        0        0        0         AK   \n",
       "64  AK0000272    20191     C        0        0        0        0         AK   \n",
       "\n",
       "     state  netdmr  dmrnr.flag  \n",
       "60  Alaska     1.0           0  \n",
       "61  Alaska     1.0           0  \n",
       "62  Alaska     1.0           0  \n",
       "63  Alaska     1.0           0  \n",
       "64  Alaska     1.0           0  "
      ]
     },
     "execution_count": 12,
     "metadata": {},
     "output_type": "execute_result"
    }
   ],
   "source": [
    "df.head()"
   ]
  },
  {
   "cell_type": "markdown",
   "metadata": {},
   "source": [
    "## Overall (National) Design Effect + Sample Size Calculation"
   ]
  },
  {
   "cell_type": "code",
   "execution_count": 13,
   "metadata": {},
   "outputs": [],
   "source": [
    "results = calculate_icc_over_time_periods(df)"
   ]
  },
  {
   "cell_type": "code",
   "execution_count": 14,
   "metadata": {},
   "outputs": [
    {
     "name": "stdout",
     "output_type": "stream",
     "text": [
      "Mean ICC Values\n",
      "Two Quarters; ICC 1: 0.7536977536350544; ICC 2: 0.7537092098453712; ICC 3: 0.7537843016579314\n",
      "Three Quarters; ICC 1: 0.7508564275567887; ICC 2: 0.7508708513838159; ICC 3: 0.7509975918968427\n",
      "Four Quarters; ICC 1: 0.7369112771202735; ICC 2: 0.7369233018413979; ICC 3: 0.7370537328521842\n"
     ]
    }
   ],
   "source": [
    "# ICC For 2 Consecutive Quarters\n",
    "print('Mean ICC Values')\n",
    "print('Two Quarters; ICC 1: {}; ICC 2: {}; ICC 3: {}'.format(results[2]['icc1'].mean(), results[2]['icc2'].mean(), results[2]['icc3'].mean()))\n",
    "\n",
    "# ICC For 3 Consecutive Quarters\n",
    "print('Three Quarters; ICC 1: {}; ICC 2: {}; ICC 3: {}'.format(results[3]['icc1'].mean(), results[3]['icc2'].mean(), results[3]['icc3'].mean()))\n",
    "\n",
    "# ICC For 4 Consecutive Quarters\n",
    "print('Four Quarters; ICC 1: {}; ICC 2: {}; ICC 3: {}'.format(results[4]['icc1'].mean(), results[4]['icc2'].mean(), results[4]['icc3'].mean()))\n",
    "      "
   ]
  },
  {
   "cell_type": "markdown",
   "metadata": {},
   "source": [
    "It turns out that ICC 1, 2, and 3 give pretty much the same result, so for the sake of our power analysis, it doesn't really matter which one we choose. In theory though, I think we want [ICC 1](https://en.wikipedia.org/wiki/Intraclass_correlation).\n",
    "\n",
    "See Shrout, P. E., & Fleiss, J. L. (1979). [Intraclass correlations: uses in assessing rater reliability. Psychological bulletin](http://www.rokwa.x-y.net/Shrout-Fleiss-ICC.pdf), 86(2), 420. for the actual definitions."
   ]
  },
  {
   "cell_type": "code",
   "execution_count": 15,
   "metadata": {},
   "outputs": [],
   "source": [
    "de2 = 1 + (2 - 1) * results[2]['icc1'].mean()\n",
    "de3 = 1 + (3 - 1) * results[3]['icc1'].mean()\n",
    "de4 = 1 + (4 - 1) * results[4]['icc1'].mean()"
   ]
  },
  {
   "cell_type": "code",
   "execution_count": 16,
   "metadata": {},
   "outputs": [
    {
     "name": "stdout",
     "output_type": "stream",
     "text": [
      "\n",
      "Design Effect\n",
      "2 Quarters: 1.7536977536350544\n",
      "3 Quarters: 2.5017128551135777\n",
      "4 Quarters: 3.2107338313608205\n",
      "\n"
     ]
    }
   ],
   "source": [
    "print(\n",
    "\"\"\"\n",
    "Design Effect\n",
    "2 Quarters: {}\n",
    "3 Quarters: {}\n",
    "4 Quarters: {}\n",
    "\"\"\".format(de2, de3, de4)\n",
    ")"
   ]
  },
  {
   "cell_type": "code",
   "execution_count": 17,
   "metadata": {},
   "outputs": [],
   "source": [
    "df_power['Number of Facilities Assuming 2 Quarters'] = df_power['sample_size'] * de2 / 2\n",
    "df_power['Number of Facilities Assuming 3 Quarters'] = df_power['sample_size'] * de3 / 3\n",
    "df_power['Number of Facilities Assuming 4 Quarters'] = df_power['sample_size'] * de4 / 4\n",
    "                                                        "
   ]
  },
  {
   "cell_type": "code",
   "execution_count": 18,
   "metadata": {},
   "outputs": [
    {
     "data": {
      "text/html": [
       "<div>\n",
       "<style scoped>\n",
       "    .dataframe tbody tr th:only-of-type {\n",
       "        vertical-align: middle;\n",
       "    }\n",
       "\n",
       "    .dataframe tbody tr th {\n",
       "        vertical-align: top;\n",
       "    }\n",
       "\n",
       "    .dataframe thead th {\n",
       "        text-align: right;\n",
       "    }\n",
       "</style>\n",
       "<table border=\"1\" class=\"dataframe\">\n",
       "  <thead>\n",
       "    <tr style=\"text-align: right;\">\n",
       "      <th></th>\n",
       "      <th>sample_size</th>\n",
       "      <th>deltas_memo</th>\n",
       "      <th>Number of Facilities Assuming 2 Quarters</th>\n",
       "      <th>Number of Facilities Assuming 3 Quarters</th>\n",
       "      <th>Number of Facilities Assuming 4 Quarters</th>\n",
       "    </tr>\n",
       "  </thead>\n",
       "  <tbody>\n",
       "    <tr>\n",
       "      <th>0</th>\n",
       "      <td>8976.959982</td>\n",
       "      <td>0.0100</td>\n",
       "      <td>7871.437278</td>\n",
       "      <td>7485.925396</td>\n",
       "      <td>7205.657280</td>\n",
       "    </tr>\n",
       "    <tr>\n",
       "      <th>1</th>\n",
       "      <td>5629.251025</td>\n",
       "      <td>0.0125</td>\n",
       "      <td>4936.002439</td>\n",
       "      <td>4694.256551</td>\n",
       "      <td>4518.506678</td>\n",
       "    </tr>\n",
       "    <tr>\n",
       "      <th>2</th>\n",
       "      <td>3827.383089</td>\n",
       "      <td>0.0150</td>\n",
       "      <td>3356.036563</td>\n",
       "      <td>3191.671158</td>\n",
       "      <td>3072.177092</td>\n",
       "    </tr>\n",
       "    <tr>\n",
       "      <th>3</th>\n",
       "      <td>2750.855098</td>\n",
       "      <td>0.0175</td>\n",
       "      <td>2412.084203</td>\n",
       "      <td>2293.949854</td>\n",
       "      <td>2208.065882</td>\n",
       "    </tr>\n",
       "    <tr>\n",
       "      <th>4</th>\n",
       "      <td>2058.534454</td>\n",
       "      <td>0.0200</td>\n",
       "      <td>1805.023624</td>\n",
       "      <td>1716.620702</td>\n",
       "      <td>1652.351553</td>\n",
       "    </tr>\n",
       "    <tr>\n",
       "      <th>5</th>\n",
       "      <td>1588.207979</td>\n",
       "      <td>0.0225</td>\n",
       "      <td>1392.618383</td>\n",
       "      <td>1324.413439</td>\n",
       "      <td>1274.828272</td>\n",
       "    </tr>\n",
       "    <tr>\n",
       "      <th>6</th>\n",
       "      <td>1254.834035</td>\n",
       "      <td>0.0250</td>\n",
       "      <td>1100.299814</td>\n",
       "      <td>1046.411479</td>\n",
       "      <td>1007.234522</td>\n",
       "    </tr>\n",
       "    <tr>\n",
       "      <th>7</th>\n",
       "      <td>1010.386585</td>\n",
       "      <td>0.0275</td>\n",
       "      <td>885.956342</td>\n",
       "      <td>842.565703</td>\n",
       "      <td>811.020598</td>\n",
       "    </tr>\n",
       "    <tr>\n",
       "      <th>8</th>\n",
       "      <td>826.104370</td>\n",
       "      <td>0.0300</td>\n",
       "      <td>724.368689</td>\n",
       "      <td>688.891974</td>\n",
       "      <td>663.100313</td>\n",
       "    </tr>\n",
       "  </tbody>\n",
       "</table>\n",
       "</div>"
      ],
      "text/plain": [
       "   sample_size  deltas_memo  Number of Facilities Assuming 2 Quarters  \\\n",
       "0  8976.959982       0.0100                               7871.437278   \n",
       "1  5629.251025       0.0125                               4936.002439   \n",
       "2  3827.383089       0.0150                               3356.036563   \n",
       "3  2750.855098       0.0175                               2412.084203   \n",
       "4  2058.534454       0.0200                               1805.023624   \n",
       "5  1588.207979       0.0225                               1392.618383   \n",
       "6  1254.834035       0.0250                               1100.299814   \n",
       "7  1010.386585       0.0275                                885.956342   \n",
       "8   826.104370       0.0300                                724.368689   \n",
       "\n",
       "   Number of Facilities Assuming 3 Quarters  \\\n",
       "0                               7485.925396   \n",
       "1                               4694.256551   \n",
       "2                               3191.671158   \n",
       "3                               2293.949854   \n",
       "4                               1716.620702   \n",
       "5                               1324.413439   \n",
       "6                               1046.411479   \n",
       "7                                842.565703   \n",
       "8                                688.891974   \n",
       "\n",
       "   Number of Facilities Assuming 4 Quarters  \n",
       "0                               7205.657280  \n",
       "1                               4518.506678  \n",
       "2                               3072.177092  \n",
       "3                               2208.065882  \n",
       "4                               1652.351553  \n",
       "5                               1274.828272  \n",
       "6                               1007.234522  \n",
       "7                                811.020598  \n",
       "8                                663.100313  "
      ]
     },
     "execution_count": 18,
     "metadata": {},
     "output_type": "execute_result"
    }
   ],
   "source": [
    "df_power"
   ]
  },
  {
   "cell_type": "markdown",
   "metadata": {},
   "source": [
    "## By State Design Effect Calculation"
   ]
  },
  {
   "cell_type": "markdown",
   "metadata": {},
   "source": [
    "This section calculates the Design Effect by state. Note that this calculation is complicated in states with smaller volume of facilities as there isn't sufficient sample size to properly calculate the ICC."
   ]
  },
  {
   "cell_type": "code",
   "execution_count": 19,
   "metadata": {},
   "outputs": [
    {
     "data": {
      "text/plain": [
       "state_code\n",
       "IN    9489\n",
       "TX    2602\n",
       "NY    1530\n",
       "IL    1305\n",
       "MS    1242\n",
       "KY    1235\n",
       "TN    1111\n",
       "LA    1098\n",
       "NE     710\n",
       "AR     710\n",
       "GA     632\n",
       "MD     380\n",
       "CO     366\n",
       "OR     327\n",
       "ME     264\n",
       "PR     242\n",
       "MA     196\n",
       "SD     165\n",
       "MT     152\n",
       "UT     138\n",
       "ID     138\n",
       "CT     130\n",
       "NM      97\n",
       "AK      89\n",
       "VI      83\n",
       "NH      71\n",
       "HI      61\n",
       "RI      50\n",
       "DC       7\n",
       "Name: NPDES_ID, dtype: int64"
      ]
     },
     "execution_count": 19,
     "metadata": {},
     "output_type": "execute_result"
    }
   ],
   "source": [
    "number_of_facilities_by_state = df.groupby('state_code')['NPDES_ID'].nunique().sort_values(ascending=False)\n",
    "number_of_facilities_by_state"
   ]
  },
  {
   "cell_type": "code",
   "execution_count": 20,
   "metadata": {},
   "outputs": [
    {
     "name": "stderr",
     "output_type": "stream",
     "text": [
      "/Users/vincentla/.pyenv/versions/3.7.4/envs/epa-risk/lib/python3.7/site-packages/ipykernel_launcher.py:7: SettingWithCopyWarning: \n",
      "A value is trying to be set on a copy of a slice from a DataFrame\n",
      "\n",
      "See the caveats in the documentation: https://pandas.pydata.org/pandas-docs/stable/user_guide/indexing.html#returning-a-view-versus-a-copy\n",
      "  import sys\n",
      "R[write to console]: boundary (singular) fit: see ?isSingular\n",
      "\n"
     ]
    },
    {
     "name": "stdout",
     "output_type": "stream",
     "text": [
      "Calculating ICC for state AK\n"
     ]
    },
    {
     "name": "stderr",
     "output_type": "stream",
     "text": [
      "R[write to console]: boundary (singular) fit: see ?isSingular\n",
      "\n",
      "R[write to console]: boundary (singular) fit: see ?isSingular\n",
      "\n",
      "R[write to console]: boundary (singular) fit: see ?isSingular\n",
      "\n",
      "R[write to console]: Error in eval_f(x, ...) : Downdated VtV is not positive definite\n",
      "Calls: <Anonymous> ... <Anonymous> -> nloptr -> <Anonymous> -> eval_f -> .Call\n",
      "\n",
      "R[write to console]: In addition: \n",
      "R[write to console]: Warning messages:\n",
      "\n",
      "R[write to console]: 1: \n",
      "R[write to console]: In checkConv(attr(opt, \"derivs\"), opt$par, ctrl = control$checkConv,  :\n",
      "R[write to console]: \n",
      " \n",
      "R[write to console]:  Model failed to converge with max|grad| = 0.393024 (tol = 0.002, component 1)\n",
      "\n",
      "R[write to console]: 2: \n",
      "R[write to console]: In checkConv(attr(opt, \"derivs\"), opt$par, ctrl = control$checkConv,  :\n",
      "R[write to console]: \n",
      " \n",
      "R[write to console]:  Model failed to converge with max|grad| = 0.00663808 (tol = 0.002, component 1)\n",
      "\n",
      "R[write to console]: 3: \n",
      "R[write to console]: In checkConv(attr(opt, \"derivs\"), opt$par, ctrl = control$checkConv,  :\n",
      "R[write to console]: \n",
      " \n",
      "R[write to console]:  Model failed to converge with max|grad| = 0.0127103 (tol = 0.002, component 1)\n",
      "\n",
      "R[write to console]: 4: \n",
      "R[write to console]: In checkConv(attr(opt, \"derivs\"), opt$par, ctrl = control$checkConv,  :\n",
      "R[write to console]: \n",
      " \n",
      "R[write to console]:  Model failed to converge with max|grad| = 0.205456 (tol = 0.002, component 1)\n",
      "\n",
      "R[write to console]: 5: \n",
      "R[write to console]: In checkConv(attr(opt, \"derivs\"), opt$par, ctrl = control$checkConv,  :\n",
      "R[write to console]: \n",
      " \n",
      "R[write to console]:  Model failed to converge with max|grad| = 0.164616 (tol = 0.002, component 1)\n",
      "\n",
      "R[write to console]: 6: \n",
      "R[write to console]: In optwrap(optimizer, devfun, getStart(start, rho$pp), lower = rho$lower,  :\n",
      "R[write to console]: \n",
      " \n",
      "R[write to console]:  convergence code -4 from nloptwrap\n",
      "\n",
      "R[write to console]: boundary (singular) fit: see ?isSingular\n",
      "\n",
      "R[write to console]: boundary (singular) fit: see ?isSingular\n",
      "\n"
     ]
    },
    {
     "name": "stdout",
     "output_type": "stream",
     "text": [
      "Could not calculate ICC for this data\n"
     ]
    },
    {
     "name": "stderr",
     "output_type": "stream",
     "text": [
      "R[write to console]: boundary (singular) fit: see ?isSingular\n",
      "\n",
      "R[write to console]: Error in eval_f(x, ...) : Downdated VtV is not positive definite\n",
      "Calls: <Anonymous> ... <Anonymous> -> nloptr -> <Anonymous> -> eval_f -> .Call\n",
      "\n",
      "R[write to console]: boundary (singular) fit: see ?isSingular\n",
      "\n"
     ]
    },
    {
     "name": "stdout",
     "output_type": "stream",
     "text": [
      "Could not calculate ICC for this data\n"
     ]
    },
    {
     "name": "stderr",
     "output_type": "stream",
     "text": [
      "R[write to console]: boundary (singular) fit: see ?isSingular\n",
      "\n"
     ]
    },
    {
     "name": "stdout",
     "output_type": "stream",
     "text": [
      "Calculating ICC for state AR\n"
     ]
    },
    {
     "name": "stderr",
     "output_type": "stream",
     "text": [
      "R[write to console]: boundary (singular) fit: see ?isSingular\n",
      "\n",
      "R[write to console]: boundary (singular) fit: see ?isSingular\n",
      "\n",
      "R[write to console]: boundary (singular) fit: see ?isSingular\n",
      "\n",
      "R[write to console]: boundary (singular) fit: see ?isSingular\n",
      "\n",
      "R[write to console]: boundary (singular) fit: see ?isSingular\n",
      "\n",
      "R[write to console]: boundary (singular) fit: see ?isSingular\n",
      "\n",
      "R[write to console]: boundary (singular) fit: see ?isSingular\n",
      "\n"
     ]
    },
    {
     "name": "stdout",
     "output_type": "stream",
     "text": [
      "Calculating ICC for state CO\n"
     ]
    },
    {
     "name": "stderr",
     "output_type": "stream",
     "text": [
      "R[write to console]: boundary (singular) fit: see ?isSingular\n",
      "\n",
      "R[write to console]: boundary (singular) fit: see ?isSingular\n",
      "\n",
      "R[write to console]: boundary (singular) fit: see ?isSingular\n",
      "\n",
      "R[write to console]: boundary (singular) fit: see ?isSingular\n",
      "\n",
      "R[write to console]: boundary (singular) fit: see ?isSingular\n",
      "\n",
      "R[write to console]: boundary (singular) fit: see ?isSingular\n",
      "\n",
      "R[write to console]: boundary (singular) fit: see ?isSingular\n",
      "\n",
      "R[write to console]: boundary (singular) fit: see ?isSingular\n",
      "\n",
      "R[write to console]: boundary (singular) fit: see ?isSingular\n",
      "\n",
      "R[write to console]: boundary (singular) fit: see ?isSingular\n",
      "\n",
      "R[write to console]: boundary (singular) fit: see ?isSingular\n",
      "\n",
      "R[write to console]: boundary (singular) fit: see ?isSingular\n",
      "\n",
      "R[write to console]: boundary (singular) fit: see ?isSingular\n",
      "\n",
      "R[write to console]: boundary (singular) fit: see ?isSingular\n",
      "\n",
      "R[write to console]: boundary (singular) fit: see ?isSingular\n",
      "\n",
      "R[write to console]: boundary (singular) fit: see ?isSingular\n",
      "\n",
      "R[write to console]: boundary (singular) fit: see ?isSingular\n",
      "\n",
      "R[write to console]: boundary (singular) fit: see ?isSingular\n",
      "\n",
      "R[write to console]: boundary (singular) fit: see ?isSingular\n",
      "\n"
     ]
    },
    {
     "name": "stdout",
     "output_type": "stream",
     "text": [
      "Calculating ICC for state CT\n"
     ]
    },
    {
     "name": "stderr",
     "output_type": "stream",
     "text": [
      "R[write to console]: boundary (singular) fit: see ?isSingular\n",
      "\n",
      "R[write to console]: boundary (singular) fit: see ?isSingular\n",
      "\n",
      "R[write to console]: boundary (singular) fit: see ?isSingular\n",
      "\n",
      "R[write to console]: boundary (singular) fit: see ?isSingular\n",
      "\n",
      "R[write to console]: boundary (singular) fit: see ?isSingular\n",
      "\n",
      "R[write to console]: boundary (singular) fit: see ?isSingular\n",
      "\n",
      "R[write to console]: boundary (singular) fit: see ?isSingular\n",
      "\n",
      "R[write to console]: boundary (singular) fit: see ?isSingular\n",
      "\n",
      "R[write to console]: boundary (singular) fit: see ?isSingular\n",
      "\n"
     ]
    },
    {
     "name": "stdout",
     "output_type": "stream",
     "text": [
      "Calculating ICC for state DC\n"
     ]
    },
    {
     "name": "stderr",
     "output_type": "stream",
     "text": [
      "R[write to console]: boundary (singular) fit: see ?isSingular\n",
      "\n",
      "R[write to console]: boundary (singular) fit: see ?isSingular\n",
      "\n",
      "R[write to console]: boundary (singular) fit: see ?isSingular\n",
      "\n",
      "R[write to console]: boundary (singular) fit: see ?isSingular\n",
      "\n"
     ]
    },
    {
     "name": "stdout",
     "output_type": "stream",
     "text": [
      "Calculating ICC for state GA\n"
     ]
    },
    {
     "name": "stderr",
     "output_type": "stream",
     "text": [
      "R[write to console]: boundary (singular) fit: see ?isSingular\n",
      "\n",
      "R[write to console]: boundary (singular) fit: see ?isSingular\n",
      "\n",
      "R[write to console]: boundary (singular) fit: see ?isSingular\n",
      "\n",
      "R[write to console]: boundary (singular) fit: see ?isSingular\n",
      "\n",
      "R[write to console]: boundary (singular) fit: see ?isSingular\n",
      "\n",
      "R[write to console]: boundary (singular) fit: see ?isSingular\n",
      "\n",
      "R[write to console]: boundary (singular) fit: see ?isSingular\n",
      "\n",
      "R[write to console]: boundary (singular) fit: see ?isSingular\n",
      "\n",
      "R[write to console]: boundary (singular) fit: see ?isSingular\n",
      "\n"
     ]
    },
    {
     "name": "stdout",
     "output_type": "stream",
     "text": [
      "Calculating ICC for state HI\n"
     ]
    },
    {
     "name": "stderr",
     "output_type": "stream",
     "text": [
      "R[write to console]: boundary (singular) fit: see ?isSingular\n",
      "\n",
      "R[write to console]: boundary (singular) fit: see ?isSingular\n",
      "\n",
      "R[write to console]: boundary (singular) fit: see ?isSingular\n",
      "\n",
      "R[write to console]: boundary (singular) fit: see ?isSingular\n",
      "\n",
      "R[write to console]: boundary (singular) fit: see ?isSingular\n",
      "\n",
      "R[write to console]: boundary (singular) fit: see ?isSingular\n",
      "\n",
      "R[write to console]: boundary (singular) fit: see ?isSingular\n",
      "\n",
      "R[write to console]: boundary (singular) fit: see ?isSingular\n",
      "\n",
      "R[write to console]: boundary (singular) fit: see ?isSingular\n",
      "\n",
      "R[write to console]: boundary (singular) fit: see ?isSingular\n",
      "\n",
      "R[write to console]: boundary (singular) fit: see ?isSingular\n",
      "\n",
      "R[write to console]: boundary (singular) fit: see ?isSingular\n",
      "\n",
      "R[write to console]: boundary (singular) fit: see ?isSingular\n",
      "\n",
      "R[write to console]: boundary (singular) fit: see ?isSingular\n",
      "\n"
     ]
    },
    {
     "name": "stdout",
     "output_type": "stream",
     "text": [
      "Calculating ICC for state ID\n"
     ]
    },
    {
     "name": "stderr",
     "output_type": "stream",
     "text": [
      "R[write to console]: boundary (singular) fit: see ?isSingular\n",
      "\n",
      "R[write to console]: boundary (singular) fit: see ?isSingular\n",
      "\n",
      "R[write to console]: boundary (singular) fit: see ?isSingular\n",
      "\n",
      "R[write to console]: boundary (singular) fit: see ?isSingular\n",
      "\n",
      "R[write to console]: boundary (singular) fit: see ?isSingular\n",
      "\n",
      "R[write to console]: boundary (singular) fit: see ?isSingular\n",
      "\n",
      "R[write to console]: boundary (singular) fit: see ?isSingular\n",
      "\n",
      "R[write to console]: boundary (singular) fit: see ?isSingular\n",
      "\n",
      "R[write to console]: boundary (singular) fit: see ?isSingular\n",
      "\n",
      "R[write to console]: boundary (singular) fit: see ?isSingular\n",
      "\n"
     ]
    },
    {
     "name": "stdout",
     "output_type": "stream",
     "text": [
      "Calculating ICC for state IL\n"
     ]
    },
    {
     "name": "stderr",
     "output_type": "stream",
     "text": [
      "R[write to console]: boundary (singular) fit: see ?isSingular\n",
      "\n",
      "R[write to console]: boundary (singular) fit: see ?isSingular\n",
      "\n",
      "R[write to console]: boundary (singular) fit: see ?isSingular\n",
      "\n",
      "R[write to console]: boundary (singular) fit: see ?isSingular\n",
      "\n",
      "R[write to console]: boundary (singular) fit: see ?isSingular\n",
      "\n",
      "R[write to console]: boundary (singular) fit: see ?isSingular\n",
      "\n"
     ]
    },
    {
     "name": "stdout",
     "output_type": "stream",
     "text": [
      "Calculating ICC for state IN\n"
     ]
    },
    {
     "name": "stderr",
     "output_type": "stream",
     "text": [
      "R[write to console]: boundary (singular) fit: see ?isSingular\n",
      "\n",
      "R[write to console]: boundary (singular) fit: see ?isSingular\n",
      "\n",
      "R[write to console]: boundary (singular) fit: see ?isSingular\n",
      "\n"
     ]
    },
    {
     "name": "stdout",
     "output_type": "stream",
     "text": [
      "Calculating ICC for state KY\n"
     ]
    },
    {
     "name": "stderr",
     "output_type": "stream",
     "text": [
      "R[write to console]: boundary (singular) fit: see ?isSingular\n",
      "\n",
      "R[write to console]: boundary (singular) fit: see ?isSingular\n",
      "\n"
     ]
    },
    {
     "name": "stdout",
     "output_type": "stream",
     "text": [
      "Calculating ICC for state LA\n"
     ]
    },
    {
     "name": "stderr",
     "output_type": "stream",
     "text": [
      "R[write to console]: boundary (singular) fit: see ?isSingular\n",
      "\n",
      "R[write to console]: boundary (singular) fit: see ?isSingular\n",
      "\n",
      "R[write to console]: boundary (singular) fit: see ?isSingular\n",
      "\n",
      "R[write to console]: boundary (singular) fit: see ?isSingular\n",
      "\n",
      "R[write to console]: boundary (singular) fit: see ?isSingular\n",
      "\n",
      "R[write to console]: boundary (singular) fit: see ?isSingular\n",
      "\n"
     ]
    },
    {
     "name": "stdout",
     "output_type": "stream",
     "text": [
      "Calculating ICC for state MA\n"
     ]
    },
    {
     "name": "stderr",
     "output_type": "stream",
     "text": [
      "R[write to console]: boundary (singular) fit: see ?isSingular\n",
      "\n",
      "R[write to console]: boundary (singular) fit: see ?isSingular\n",
      "\n"
     ]
    },
    {
     "name": "stdout",
     "output_type": "stream",
     "text": [
      "Calculating ICC for state MD\n"
     ]
    },
    {
     "name": "stderr",
     "output_type": "stream",
     "text": [
      "R[write to console]: boundary (singular) fit: see ?isSingular\n",
      "\n",
      "R[write to console]: boundary (singular) fit: see ?isSingular\n",
      "\n",
      "R[write to console]: boundary (singular) fit: see ?isSingular\n",
      "\n"
     ]
    },
    {
     "name": "stdout",
     "output_type": "stream",
     "text": [
      "Calculating ICC for state ME\n"
     ]
    },
    {
     "name": "stderr",
     "output_type": "stream",
     "text": [
      "R[write to console]: boundary (singular) fit: see ?isSingular\n",
      "\n",
      "R[write to console]: boundary (singular) fit: see ?isSingular\n",
      "\n",
      "R[write to console]: boundary (singular) fit: see ?isSingular\n",
      "\n"
     ]
    },
    {
     "name": "stdout",
     "output_type": "stream",
     "text": [
      "Calculating ICC for state MS\n"
     ]
    },
    {
     "name": "stderr",
     "output_type": "stream",
     "text": [
      "R[write to console]: boundary (singular) fit: see ?isSingular\n",
      "\n",
      "R[write to console]: boundary (singular) fit: see ?isSingular\n",
      "\n",
      "R[write to console]: boundary (singular) fit: see ?isSingular\n",
      "\n",
      "R[write to console]: boundary (singular) fit: see ?isSingular\n",
      "\n"
     ]
    },
    {
     "name": "stdout",
     "output_type": "stream",
     "text": [
      "Calculating ICC for state MT\n"
     ]
    },
    {
     "name": "stderr",
     "output_type": "stream",
     "text": [
      "R[write to console]: boundary (singular) fit: see ?isSingular\n",
      "\n",
      "R[write to console]: boundary (singular) fit: see ?isSingular\n",
      "\n",
      "R[write to console]: boundary (singular) fit: see ?isSingular\n",
      "\n",
      "R[write to console]: boundary (singular) fit: see ?isSingular\n",
      "\n",
      "R[write to console]: boundary (singular) fit: see ?isSingular\n",
      "\n",
      "R[write to console]: boundary (singular) fit: see ?isSingular\n",
      "\n",
      "R[write to console]: boundary (singular) fit: see ?isSingular\n",
      "\n",
      "R[write to console]: boundary (singular) fit: see ?isSingular\n",
      "\n"
     ]
    },
    {
     "name": "stdout",
     "output_type": "stream",
     "text": [
      "Calculating ICC for state NE\n"
     ]
    },
    {
     "name": "stderr",
     "output_type": "stream",
     "text": [
      "R[write to console]: boundary (singular) fit: see ?isSingular\n",
      "\n",
      "R[write to console]: boundary (singular) fit: see ?isSingular\n",
      "\n",
      "R[write to console]: boundary (singular) fit: see ?isSingular\n",
      "\n",
      "R[write to console]: boundary (singular) fit: see ?isSingular\n",
      "\n",
      "R[write to console]: boundary (singular) fit: see ?isSingular\n",
      "\n"
     ]
    },
    {
     "name": "stdout",
     "output_type": "stream",
     "text": [
      "Calculating ICC for state NH\n"
     ]
    },
    {
     "name": "stderr",
     "output_type": "stream",
     "text": [
      "R[write to console]: boundary (singular) fit: see ?isSingular\n",
      "\n",
      "R[write to console]: boundary (singular) fit: see ?isSingular\n",
      "\n",
      "R[write to console]: boundary (singular) fit: see ?isSingular\n",
      "\n",
      "R[write to console]: boundary (singular) fit: see ?isSingular\n",
      "\n",
      "R[write to console]: boundary (singular) fit: see ?isSingular\n",
      "\n",
      "R[write to console]: boundary (singular) fit: see ?isSingular\n",
      "\n",
      "R[write to console]: boundary (singular) fit: see ?isSingular\n",
      "\n",
      "R[write to console]: boundary (singular) fit: see ?isSingular\n",
      "\n",
      "R[write to console]: boundary (singular) fit: see ?isSingular\n",
      "\n",
      "R[write to console]: boundary (singular) fit: see ?isSingular\n",
      "\n",
      "R[write to console]: boundary (singular) fit: see ?isSingular\n",
      "\n",
      "R[write to console]: boundary (singular) fit: see ?isSingular\n",
      "\n"
     ]
    },
    {
     "name": "stdout",
     "output_type": "stream",
     "text": [
      "Calculating ICC for state NM\n"
     ]
    },
    {
     "name": "stderr",
     "output_type": "stream",
     "text": [
      "R[write to console]: boundary (singular) fit: see ?isSingular\n",
      "\n",
      "R[write to console]: boundary (singular) fit: see ?isSingular\n",
      "\n",
      "R[write to console]: boundary (singular) fit: see ?isSingular\n",
      "\n",
      "R[write to console]: boundary (singular) fit: see ?isSingular\n",
      "\n",
      "R[write to console]: boundary (singular) fit: see ?isSingular\n",
      "\n",
      "R[write to console]: boundary (singular) fit: see ?isSingular\n",
      "\n"
     ]
    },
    {
     "name": "stdout",
     "output_type": "stream",
     "text": [
      "Calculating ICC for state NY\n"
     ]
    },
    {
     "name": "stderr",
     "output_type": "stream",
     "text": [
      "R[write to console]: Error in eval_f(x, ...) : Downdated VtV is not positive definite\n",
      "Calls: <Anonymous> ... <Anonymous> -> nloptr -> <Anonymous> -> eval_f -> .Call\n",
      "\n",
      "R[write to console]: In addition: \n",
      "R[write to console]: There were 27 warnings (use warnings() to see them)\n",
      "R[write to console]: \n",
      "\n",
      "R[write to console]: Error in eval_f(x, ...) : Downdated VtV is not positive definite\n",
      "Calls: <Anonymous> ... <Anonymous> -> nloptr -> <Anonymous> -> eval_f -> .Call\n",
      "\n",
      "R[write to console]: In addition: \n",
      "R[write to console]: Warning messages:\n",
      "\n",
      "R[write to console]: 1: \n",
      "R[write to console]: In eval_f(x, ...) :\n",
      "R[write to console]: \n",
      " \n",
      "R[write to console]:  Cholmod warning 'not positive definite' at file:../Cholesky/t_cholmod_rowfac.c, line 431\n",
      "\n",
      "R[write to console]: 2: \n",
      "R[write to console]: In eval_f(x, ...) :\n",
      "R[write to console]: \n",
      " \n",
      "R[write to console]:  Cholmod warning 'not positive definite' at file:../Cholesky/t_cholmod_rowfac.c, line 431\n",
      "\n"
     ]
    },
    {
     "name": "stdout",
     "output_type": "stream",
     "text": [
      "Calculating ICC for state OR\n",
      "Could not calculate ICC for this data\n",
      "Could not calculate ICC for this data\n"
     ]
    },
    {
     "name": "stderr",
     "output_type": "stream",
     "text": [
      "R[write to console]: Error in eval_f(x, ...) : Downdated VtV is not positive definite\n",
      "Calls: <Anonymous> ... <Anonymous> -> nloptr -> <Anonymous> -> eval_f -> .Call\n",
      "\n",
      "R[write to console]: boundary (singular) fit: see ?isSingular\n",
      "\n"
     ]
    },
    {
     "name": "stdout",
     "output_type": "stream",
     "text": [
      "Could not calculate ICC for this data\n"
     ]
    },
    {
     "name": "stderr",
     "output_type": "stream",
     "text": [
      "R[write to console]: Error in eval_f(x, ...) : Downdated VtV is not positive definite\n",
      "Calls: <Anonymous> ... <Anonymous> -> nloptr -> <Anonymous> -> eval_f -> .Call\n",
      "\n",
      "R[write to console]: Error in eval_f(x, ...) : Downdated VtV is not positive definite\n",
      "Calls: <Anonymous> ... <Anonymous> -> nloptr -> <Anonymous> -> eval_f -> .Call\n",
      "\n",
      "R[write to console]: boundary (singular) fit: see ?isSingular\n",
      "\n"
     ]
    },
    {
     "name": "stdout",
     "output_type": "stream",
     "text": [
      "Could not calculate ICC for this data\n",
      "Could not calculate ICC for this data\n"
     ]
    },
    {
     "name": "stderr",
     "output_type": "stream",
     "text": [
      "R[write to console]: boundary (singular) fit: see ?isSingular\n",
      "\n",
      "R[write to console]: boundary (singular) fit: see ?isSingular\n",
      "\n",
      "R[write to console]: boundary (singular) fit: see ?isSingular\n",
      "\n",
      "R[write to console]: boundary (singular) fit: see ?isSingular\n",
      "\n"
     ]
    },
    {
     "name": "stdout",
     "output_type": "stream",
     "text": [
      "Calculating ICC for state PR\n"
     ]
    },
    {
     "name": "stderr",
     "output_type": "stream",
     "text": [
      "R[write to console]: boundary (singular) fit: see ?isSingular\n",
      "\n",
      "R[write to console]: boundary (singular) fit: see ?isSingular\n",
      "\n"
     ]
    },
    {
     "name": "stdout",
     "output_type": "stream",
     "text": [
      "Calculating ICC for state RI\n"
     ]
    },
    {
     "name": "stderr",
     "output_type": "stream",
     "text": [
      "R[write to console]: boundary (singular) fit: see ?isSingular\n",
      "\n",
      "R[write to console]: boundary (singular) fit: see ?isSingular\n",
      "\n",
      "R[write to console]: boundary (singular) fit: see ?isSingular\n",
      "\n",
      "R[write to console]: boundary (singular) fit: see ?isSingular\n",
      "\n",
      "R[write to console]: boundary (singular) fit: see ?isSingular\n",
      "\n",
      "R[write to console]: boundary (singular) fit: see ?isSingular\n",
      "\n",
      "R[write to console]: boundary (singular) fit: see ?isSingular\n",
      "\n"
     ]
    },
    {
     "name": "stdout",
     "output_type": "stream",
     "text": [
      "Calculating ICC for state SD\n"
     ]
    },
    {
     "name": "stderr",
     "output_type": "stream",
     "text": [
      "R[write to console]: boundary (singular) fit: see ?isSingular\n",
      "\n",
      "R[write to console]: boundary (singular) fit: see ?isSingular\n",
      "\n",
      "R[write to console]: boundary (singular) fit: see ?isSingular\n",
      "\n",
      "R[write to console]: boundary (singular) fit: see ?isSingular\n",
      "\n",
      "R[write to console]: boundary (singular) fit: see ?isSingular\n",
      "\n",
      "R[write to console]: boundary (singular) fit: see ?isSingular\n",
      "\n",
      "R[write to console]: boundary (singular) fit: see ?isSingular\n",
      "\n"
     ]
    },
    {
     "name": "stdout",
     "output_type": "stream",
     "text": [
      "Calculating ICC for state TN\n"
     ]
    },
    {
     "name": "stderr",
     "output_type": "stream",
     "text": [
      "R[write to console]: boundary (singular) fit: see ?isSingular\n",
      "\n",
      "R[write to console]: boundary (singular) fit: see ?isSingular\n",
      "\n"
     ]
    },
    {
     "name": "stdout",
     "output_type": "stream",
     "text": [
      "Calculating ICC for state TX\n"
     ]
    },
    {
     "name": "stderr",
     "output_type": "stream",
     "text": [
      "R[write to console]: boundary (singular) fit: see ?isSingular\n",
      "\n",
      "R[write to console]: boundary (singular) fit: see ?isSingular\n",
      "\n",
      "R[write to console]: boundary (singular) fit: see ?isSingular\n",
      "\n",
      "R[write to console]: boundary (singular) fit: see ?isSingular\n",
      "\n",
      "R[write to console]: boundary (singular) fit: see ?isSingular\n",
      "\n"
     ]
    },
    {
     "name": "stdout",
     "output_type": "stream",
     "text": [
      "Calculating ICC for state UT\n"
     ]
    },
    {
     "name": "stderr",
     "output_type": "stream",
     "text": [
      "R[write to console]: boundary (singular) fit: see ?isSingular\n",
      "\n",
      "R[write to console]: boundary (singular) fit: see ?isSingular\n",
      "\n",
      "R[write to console]: boundary (singular) fit: see ?isSingular\n",
      "\n",
      "R[write to console]: boundary (singular) fit: see ?isSingular\n",
      "\n",
      "R[write to console]: boundary (singular) fit: see ?isSingular\n",
      "\n",
      "R[write to console]: boundary (singular) fit: see ?isSingular\n",
      "\n",
      "R[write to console]: boundary (singular) fit: see ?isSingular\n",
      "\n",
      "R[write to console]: boundary (singular) fit: see ?isSingular\n",
      "\n",
      "R[write to console]: boundary (singular) fit: see ?isSingular\n",
      "\n",
      "R[write to console]: boundary (singular) fit: see ?isSingular\n",
      "\n",
      "R[write to console]: boundary (singular) fit: see ?isSingular\n",
      "\n",
      "R[write to console]: boundary (singular) fit: see ?isSingular\n",
      "\n",
      "R[write to console]: boundary (singular) fit: see ?isSingular\n",
      "\n"
     ]
    },
    {
     "name": "stdout",
     "output_type": "stream",
     "text": [
      "Calculating ICC for state VI\n"
     ]
    },
    {
     "name": "stderr",
     "output_type": "stream",
     "text": [
      "R[write to console]: boundary (singular) fit: see ?isSingular\n",
      "\n"
     ]
    }
   ],
   "source": [
    "states = df['state_code'].unique()\n",
    "\n",
    "results_by_state = {}\n",
    "for state in states:\n",
    "    print('Calculating ICC for state {}'.format(state))\n",
    "    df_state = df.loc[df['state_code'] == state]\n",
    "    df_state.sort_values(by=['NPDES_ID', 'YEARQTR'], inplace=True)\n",
    "    results_by_state[state] = calculate_icc_over_time_periods(df_state)"
   ]
  },
  {
   "cell_type": "code",
   "execution_count": 21,
   "metadata": {},
   "outputs": [],
   "source": [
    "result_by_state_dfs = []\n",
    "for state in results_by_state.keys():\n",
    "    result_by_state_df = pd.DataFrame({\n",
    "        'state': state,\n",
    "        'icc': results_by_state[state][2]['icc1'][~np.isnan(results_by_state[state][2]['icc1'])]\n",
    "    })\n",
    "    result_by_state_dfs.append(result_by_state_df)\n",
    "result_by_state_df = pd.concat(result_by_state_dfs)"
   ]
  },
  {
   "cell_type": "code",
   "execution_count": 22,
   "metadata": {},
   "outputs": [
    {
     "name": "stderr",
     "output_type": "stream",
     "text": [
      "/Users/vincentla/.pyenv/versions/3.7.4/envs/epa-risk/lib/python3.7/site-packages/pandas/core/reshape/merge.py:618: UserWarning: merging between different levels can give an unintended result (2 levels on the left, 1 on the right)\n",
      "  warnings.warn(msg, UserWarning)\n"
     ]
    }
   ],
   "source": [
    "result_by_state_df_grouped = result_by_state_df.groupby(['state']).agg({'icc': ['mean', 'std']})\n",
    "result_by_state_df_grouped = result_by_state_df_grouped.join(number_of_facilities_by_state)\n",
    "result_by_state_df_grouped.columns = ['icc_mean', 'icc_std', 'number_of_facilities']\n",
    "result_by_state_df_grouped.sort_values(by='number_of_facilities', ascending=False, inplace=True)"
   ]
  },
  {
   "cell_type": "code",
   "execution_count": 23,
   "metadata": {},
   "outputs": [
    {
     "data": {
      "text/html": [
       "<div>\n",
       "<style scoped>\n",
       "    .dataframe tbody tr th:only-of-type {\n",
       "        vertical-align: middle;\n",
       "    }\n",
       "\n",
       "    .dataframe tbody tr th {\n",
       "        vertical-align: top;\n",
       "    }\n",
       "\n",
       "    .dataframe thead th {\n",
       "        text-align: right;\n",
       "    }\n",
       "</style>\n",
       "<table border=\"1\" class=\"dataframe\">\n",
       "  <thead>\n",
       "    <tr style=\"text-align: right;\">\n",
       "      <th></th>\n",
       "      <th>icc_mean</th>\n",
       "      <th>icc_std</th>\n",
       "      <th>number_of_facilities</th>\n",
       "    </tr>\n",
       "    <tr>\n",
       "      <th>state</th>\n",
       "      <th></th>\n",
       "      <th></th>\n",
       "      <th></th>\n",
       "    </tr>\n",
       "  </thead>\n",
       "  <tbody>\n",
       "    <tr>\n",
       "      <th>IN</th>\n",
       "      <td>0.636411</td>\n",
       "      <td>0.116222</td>\n",
       "      <td>9489</td>\n",
       "    </tr>\n",
       "    <tr>\n",
       "      <th>TX</th>\n",
       "      <td>0.730230</td>\n",
       "      <td>0.065021</td>\n",
       "      <td>2602</td>\n",
       "    </tr>\n",
       "    <tr>\n",
       "      <th>NY</th>\n",
       "      <td>0.694437</td>\n",
       "      <td>0.069458</td>\n",
       "      <td>1530</td>\n",
       "    </tr>\n",
       "    <tr>\n",
       "      <th>IL</th>\n",
       "      <td>0.725056</td>\n",
       "      <td>0.077188</td>\n",
       "      <td>1305</td>\n",
       "    </tr>\n",
       "    <tr>\n",
       "      <th>MS</th>\n",
       "      <td>0.757758</td>\n",
       "      <td>0.185442</td>\n",
       "      <td>1242</td>\n",
       "    </tr>\n",
       "    <tr>\n",
       "      <th>KY</th>\n",
       "      <td>0.747884</td>\n",
       "      <td>0.051502</td>\n",
       "      <td>1235</td>\n",
       "    </tr>\n",
       "    <tr>\n",
       "      <th>TN</th>\n",
       "      <td>0.825537</td>\n",
       "      <td>0.070442</td>\n",
       "      <td>1111</td>\n",
       "    </tr>\n",
       "    <tr>\n",
       "      <th>LA</th>\n",
       "      <td>0.663488</td>\n",
       "      <td>0.053102</td>\n",
       "      <td>1098</td>\n",
       "    </tr>\n",
       "    <tr>\n",
       "      <th>AR</th>\n",
       "      <td>0.502414</td>\n",
       "      <td>0.065636</td>\n",
       "      <td>710</td>\n",
       "    </tr>\n",
       "    <tr>\n",
       "      <th>NE</th>\n",
       "      <td>0.786401</td>\n",
       "      <td>0.065229</td>\n",
       "      <td>710</td>\n",
       "    </tr>\n",
       "    <tr>\n",
       "      <th>GA</th>\n",
       "      <td>0.505383</td>\n",
       "      <td>0.234509</td>\n",
       "      <td>632</td>\n",
       "    </tr>\n",
       "    <tr>\n",
       "      <th>MD</th>\n",
       "      <td>0.856098</td>\n",
       "      <td>0.046461</td>\n",
       "      <td>380</td>\n",
       "    </tr>\n",
       "    <tr>\n",
       "      <th>CO</th>\n",
       "      <td>0.721559</td>\n",
       "      <td>0.066301</td>\n",
       "      <td>366</td>\n",
       "    </tr>\n",
       "    <tr>\n",
       "      <th>OR</th>\n",
       "      <td>0.166008</td>\n",
       "      <td>0.287526</td>\n",
       "      <td>327</td>\n",
       "    </tr>\n",
       "    <tr>\n",
       "      <th>ME</th>\n",
       "      <td>0.814250</td>\n",
       "      <td>0.159432</td>\n",
       "      <td>264</td>\n",
       "    </tr>\n",
       "    <tr>\n",
       "      <th>PR</th>\n",
       "      <td>0.809589</td>\n",
       "      <td>0.120447</td>\n",
       "      <td>242</td>\n",
       "    </tr>\n",
       "    <tr>\n",
       "      <th>MA</th>\n",
       "      <td>0.421755</td>\n",
       "      <td>0.238390</td>\n",
       "      <td>196</td>\n",
       "    </tr>\n",
       "    <tr>\n",
       "      <th>SD</th>\n",
       "      <td>0.220408</td>\n",
       "      <td>0.186934</td>\n",
       "      <td>165</td>\n",
       "    </tr>\n",
       "    <tr>\n",
       "      <th>MT</th>\n",
       "      <td>0.622938</td>\n",
       "      <td>0.153535</td>\n",
       "      <td>152</td>\n",
       "    </tr>\n",
       "    <tr>\n",
       "      <th>ID</th>\n",
       "      <td>0.677548</td>\n",
       "      <td>0.198860</td>\n",
       "      <td>138</td>\n",
       "    </tr>\n",
       "    <tr>\n",
       "      <th>UT</th>\n",
       "      <td>0.705666</td>\n",
       "      <td>0.122222</td>\n",
       "      <td>138</td>\n",
       "    </tr>\n",
       "    <tr>\n",
       "      <th>CT</th>\n",
       "      <td>0.572538</td>\n",
       "      <td>0.158432</td>\n",
       "      <td>130</td>\n",
       "    </tr>\n",
       "    <tr>\n",
       "      <th>NM</th>\n",
       "      <td>0.608875</td>\n",
       "      <td>0.079670</td>\n",
       "      <td>97</td>\n",
       "    </tr>\n",
       "    <tr>\n",
       "      <th>AK</th>\n",
       "      <td>0.610662</td>\n",
       "      <td>0.490594</td>\n",
       "      <td>89</td>\n",
       "    </tr>\n",
       "    <tr>\n",
       "      <th>VI</th>\n",
       "      <td>0.489107</td>\n",
       "      <td>0.432325</td>\n",
       "      <td>83</td>\n",
       "    </tr>\n",
       "    <tr>\n",
       "      <th>NH</th>\n",
       "      <td>0.686198</td>\n",
       "      <td>0.367144</td>\n",
       "      <td>71</td>\n",
       "    </tr>\n",
       "    <tr>\n",
       "      <th>HI</th>\n",
       "      <td>0.386622</td>\n",
       "      <td>0.395684</td>\n",
       "      <td>61</td>\n",
       "    </tr>\n",
       "    <tr>\n",
       "      <th>RI</th>\n",
       "      <td>0.000004</td>\n",
       "      <td>0.000012</td>\n",
       "      <td>50</td>\n",
       "    </tr>\n",
       "    <tr>\n",
       "      <th>DC</th>\n",
       "      <td>0.664599</td>\n",
       "      <td>0.335154</td>\n",
       "      <td>7</td>\n",
       "    </tr>\n",
       "  </tbody>\n",
       "</table>\n",
       "</div>"
      ],
      "text/plain": [
       "       icc_mean   icc_std  number_of_facilities\n",
       "state                                          \n",
       "IN     0.636411  0.116222                  9489\n",
       "TX     0.730230  0.065021                  2602\n",
       "NY     0.694437  0.069458                  1530\n",
       "IL     0.725056  0.077188                  1305\n",
       "MS     0.757758  0.185442                  1242\n",
       "KY     0.747884  0.051502                  1235\n",
       "TN     0.825537  0.070442                  1111\n",
       "LA     0.663488  0.053102                  1098\n",
       "AR     0.502414  0.065636                   710\n",
       "NE     0.786401  0.065229                   710\n",
       "GA     0.505383  0.234509                   632\n",
       "MD     0.856098  0.046461                   380\n",
       "CO     0.721559  0.066301                   366\n",
       "OR     0.166008  0.287526                   327\n",
       "ME     0.814250  0.159432                   264\n",
       "PR     0.809589  0.120447                   242\n",
       "MA     0.421755  0.238390                   196\n",
       "SD     0.220408  0.186934                   165\n",
       "MT     0.622938  0.153535                   152\n",
       "ID     0.677548  0.198860                   138\n",
       "UT     0.705666  0.122222                   138\n",
       "CT     0.572538  0.158432                   130\n",
       "NM     0.608875  0.079670                    97\n",
       "AK     0.610662  0.490594                    89\n",
       "VI     0.489107  0.432325                    83\n",
       "NH     0.686198  0.367144                    71\n",
       "HI     0.386622  0.395684                    61\n",
       "RI     0.000004  0.000012                    50\n",
       "DC     0.664599  0.335154                     7"
      ]
     },
     "execution_count": 23,
     "metadata": {},
     "output_type": "execute_result"
    }
   ],
   "source": [
    "result_by_state_df_grouped"
   ]
  },
  {
   "cell_type": "code",
   "execution_count": 24,
   "metadata": {},
   "outputs": [
    {
     "data": {
      "image/png": "[encoded data removed]",
      "text/plain": [
       "<Figure size 1080x576 with 1 Axes>"
      ]
     },
     "metadata": {
      "needs_background": "light"
     },
     "output_type": "display_data"
    }
   ],
   "source": [
    "plt.errorbar(np.arange(len(result_by_state_df_grouped.index)), result_by_state_df_grouped['icc_mean'], yerr=result_by_state_df_grouped['icc_std'], ls='None', marker='o')\n",
    "ax = plt.gca()\n",
    "ax.xaxis.set_ticks(np.arange(len(result_by_state_df_grouped.index)))\n",
    "ax.xaxis.set_ticklabels(result_by_state_df_grouped.index, rotation=90)\n",
    "ax.set_title('ICC Coefficient By State')\n",
    "plt.xlabel(\"State\")\n",
    "plt.ylabel(\"ICC Coefficient\")\n",
    "\n",
    "plt.show()"
   ]
  }
 ],
 "metadata": {
  "kernelspec": {
   "display_name": "Python 3",
   "language": "python",
   "name": "python3"
  },
  "language_info": {
   "codemirror_mode": {
    "name": "ipython",
    "version": 3
   },
   "file_extension": ".py",
   "mimetype": "text/x-python",
   "name": "python",
   "nbconvert_exporter": "python",
   "pygments_lexer": "ipython3",
   "version": "3.7.4"
  }
 },
 "nbformat": 4,
 "nbformat_minor": 4
}
