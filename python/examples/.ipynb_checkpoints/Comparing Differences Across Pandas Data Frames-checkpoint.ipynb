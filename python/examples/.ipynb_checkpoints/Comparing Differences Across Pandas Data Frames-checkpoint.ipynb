{
 "cells": [
  {
   "cell_type": "markdown",
   "metadata": {},
   "source": [
    "# Comparing Differences Across Pandas DataFrames"
   ]
  },
  {
   "cell_type": "code",
   "execution_count": 1,
   "metadata": {},
   "outputs": [],
   "source": [
    "import numpy as np\n",
    "import pandas as pd"
   ]
  },
  {
   "cell_type": "markdown",
   "metadata": {},
   "source": [
    "Creating DataFrame with some fake data"
   ]
  },
  {
   "cell_type": "code",
   "execution_count": 2,
   "metadata": {},
   "outputs": [],
   "source": [
    "df = pd.DataFrame({\n",
    "    'record_id': [1, 2, 3, 5],\n",
    "    'name': ['Alice', 'Ben', 'Caroline', 'Edgar'],\n",
    "    'col1': [5.5, 1.0, 2.3, 4.4],\n",
    "    'col2': [6.7, 1.1, 2.6, 4.7],\n",
    "})\n",
    "\n",
    "df2 = pd.DataFrame({\n",
    "    'record_id': [1, 2, 3, 4],\n",
    "    'name': ['Abba', 'Ben', 'Caroline', 'Donna'],\n",
    "    'col1': [5.5, 1.7, 2.3, 6.5],\n",
    "    'col2': [6.7, 1.4, 2.6, 6.3]\n",
    "})"
   ]
  },
  {
   "cell_type": "code",
   "execution_count": 3,
   "metadata": {},
   "outputs": [
    {
     "data": {
      "text/html": [
       "<div>\n",
       "<style scoped>\n",
       "    .dataframe tbody tr th:only-of-type {\n",
       "        vertical-align: middle;\n",
       "    }\n",
       "\n",
       "    .dataframe tbody tr th {\n",
       "        vertical-align: top;\n",
       "    }\n",
       "\n",
       "    .dataframe thead th {\n",
       "        text-align: right;\n",
       "    }\n",
       "</style>\n",
       "<table border=\"1\" class=\"dataframe\">\n",
       "  <thead>\n",
       "    <tr style=\"text-align: right;\">\n",
       "      <th></th>\n",
       "      <th>record_id</th>\n",
       "      <th>name</th>\n",
       "      <th>col1</th>\n",
       "      <th>col2</th>\n",
       "    </tr>\n",
       "  </thead>\n",
       "  <tbody>\n",
       "    <tr>\n",
       "      <td>0</td>\n",
       "      <td>1</td>\n",
       "      <td>Alice</td>\n",
       "      <td>5.5</td>\n",
       "      <td>6.7</td>\n",
       "    </tr>\n",
       "    <tr>\n",
       "      <td>1</td>\n",
       "      <td>2</td>\n",
       "      <td>Ben</td>\n",
       "      <td>1.0</td>\n",
       "      <td>1.1</td>\n",
       "    </tr>\n",
       "    <tr>\n",
       "      <td>2</td>\n",
       "      <td>3</td>\n",
       "      <td>Caroline</td>\n",
       "      <td>2.3</td>\n",
       "      <td>2.6</td>\n",
       "    </tr>\n",
       "    <tr>\n",
       "      <td>3</td>\n",
       "      <td>5</td>\n",
       "      <td>Edgar</td>\n",
       "      <td>4.4</td>\n",
       "      <td>4.7</td>\n",
       "    </tr>\n",
       "  </tbody>\n",
       "</table>\n",
       "</div>"
      ],
      "text/plain": [
       "   record_id      name  col1  col2\n",
       "0          1     Alice   5.5   6.7\n",
       "1          2       Ben   1.0   1.1\n",
       "2          3  Caroline   2.3   2.6\n",
       "3          5     Edgar   4.4   4.7"
      ]
     },
     "execution_count": 3,
     "metadata": {},
     "output_type": "execute_result"
    }
   ],
   "source": [
    "df"
   ]
  },
  {
   "cell_type": "code",
   "execution_count": 4,
   "metadata": {},
   "outputs": [
    {
     "data": {
      "text/html": [
       "<div>\n",
       "<style scoped>\n",
       "    .dataframe tbody tr th:only-of-type {\n",
       "        vertical-align: middle;\n",
       "    }\n",
       "\n",
       "    .dataframe tbody tr th {\n",
       "        vertical-align: top;\n",
       "    }\n",
       "\n",
       "    .dataframe thead th {\n",
       "        text-align: right;\n",
       "    }\n",
       "</style>\n",
       "<table border=\"1\" class=\"dataframe\">\n",
       "  <thead>\n",
       "    <tr style=\"text-align: right;\">\n",
       "      <th></th>\n",
       "      <th>record_id</th>\n",
       "      <th>name</th>\n",
       "      <th>col1</th>\n",
       "      <th>col2</th>\n",
       "    </tr>\n",
       "  </thead>\n",
       "  <tbody>\n",
       "    <tr>\n",
       "      <td>0</td>\n",
       "      <td>1</td>\n",
       "      <td>Abba</td>\n",
       "      <td>5.5</td>\n",
       "      <td>6.7</td>\n",
       "    </tr>\n",
       "    <tr>\n",
       "      <td>1</td>\n",
       "      <td>2</td>\n",
       "      <td>Ben</td>\n",
       "      <td>1.7</td>\n",
       "      <td>1.4</td>\n",
       "    </tr>\n",
       "    <tr>\n",
       "      <td>2</td>\n",
       "      <td>3</td>\n",
       "      <td>Caroline</td>\n",
       "      <td>2.3</td>\n",
       "      <td>2.6</td>\n",
       "    </tr>\n",
       "    <tr>\n",
       "      <td>3</td>\n",
       "      <td>4</td>\n",
       "      <td>Donna</td>\n",
       "      <td>6.5</td>\n",
       "      <td>6.3</td>\n",
       "    </tr>\n",
       "  </tbody>\n",
       "</table>\n",
       "</div>"
      ],
      "text/plain": [
       "   record_id      name  col1  col2\n",
       "0          1      Abba   5.5   6.7\n",
       "1          2       Ben   1.7   1.4\n",
       "2          3  Caroline   2.3   2.6\n",
       "3          4     Donna   6.5   6.3"
      ]
     },
     "execution_count": 4,
     "metadata": {},
     "output_type": "execute_result"
    }
   ],
   "source": [
    "df2"
   ]
  },
  {
   "cell_type": "markdown",
   "metadata": {},
   "source": [
    "Joining columns together, and swapping levels to make comparisons easier. First level are the original column names, second level is the \"first\" data frame vs the \"second\" dataframe"
   ]
  },
  {
   "cell_type": "code",
   "execution_count": 5,
   "metadata": {},
   "outputs": [],
   "source": [
    "df_all = pd.concat(\n",
    "    [df.set_index('record_id'), df2.set_index('record_id')], \n",
    "    axis='columns',\n",
    "    keys=['First', 'Second']\n",
    ")\n",
    "\n",
    "df_final = df_all.swaplevel(axis='columns')[df.columns[1:]]"
   ]
  },
  {
   "cell_type": "code",
   "execution_count": 6,
   "metadata": {},
   "outputs": [
    {
     "data": {
      "text/html": [
       "<div>\n",
       "<style scoped>\n",
       "    .dataframe tbody tr th:only-of-type {\n",
       "        vertical-align: middle;\n",
       "    }\n",
       "\n",
       "    .dataframe tbody tr th {\n",
       "        vertical-align: top;\n",
       "    }\n",
       "\n",
       "    .dataframe thead tr th {\n",
       "        text-align: left;\n",
       "    }\n",
       "\n",
       "    .dataframe thead tr:last-of-type th {\n",
       "        text-align: right;\n",
       "    }\n",
       "</style>\n",
       "<table border=\"1\" class=\"dataframe\">\n",
       "  <thead>\n",
       "    <tr>\n",
       "      <th></th>\n",
       "      <th colspan=\"2\" halign=\"left\">name</th>\n",
       "      <th colspan=\"2\" halign=\"left\">col1</th>\n",
       "      <th colspan=\"2\" halign=\"left\">col2</th>\n",
       "    </tr>\n",
       "    <tr>\n",
       "      <th></th>\n",
       "      <th>First</th>\n",
       "      <th>Second</th>\n",
       "      <th>First</th>\n",
       "      <th>Second</th>\n",
       "      <th>First</th>\n",
       "      <th>Second</th>\n",
       "    </tr>\n",
       "    <tr>\n",
       "      <th>record_id</th>\n",
       "      <th></th>\n",
       "      <th></th>\n",
       "      <th></th>\n",
       "      <th></th>\n",
       "      <th></th>\n",
       "      <th></th>\n",
       "    </tr>\n",
       "  </thead>\n",
       "  <tbody>\n",
       "    <tr>\n",
       "      <td>1</td>\n",
       "      <td>Alice</td>\n",
       "      <td>Abba</td>\n",
       "      <td>5.5</td>\n",
       "      <td>5.5</td>\n",
       "      <td>6.7</td>\n",
       "      <td>6.7</td>\n",
       "    </tr>\n",
       "    <tr>\n",
       "      <td>2</td>\n",
       "      <td>Ben</td>\n",
       "      <td>Ben</td>\n",
       "      <td>1.0</td>\n",
       "      <td>1.7</td>\n",
       "      <td>1.1</td>\n",
       "      <td>1.4</td>\n",
       "    </tr>\n",
       "    <tr>\n",
       "      <td>3</td>\n",
       "      <td>Caroline</td>\n",
       "      <td>Caroline</td>\n",
       "      <td>2.3</td>\n",
       "      <td>2.3</td>\n",
       "      <td>2.6</td>\n",
       "      <td>2.6</td>\n",
       "    </tr>\n",
       "    <tr>\n",
       "      <td>4</td>\n",
       "      <td>NaN</td>\n",
       "      <td>Donna</td>\n",
       "      <td>NaN</td>\n",
       "      <td>6.5</td>\n",
       "      <td>NaN</td>\n",
       "      <td>6.3</td>\n",
       "    </tr>\n",
       "    <tr>\n",
       "      <td>5</td>\n",
       "      <td>Edgar</td>\n",
       "      <td>NaN</td>\n",
       "      <td>4.4</td>\n",
       "      <td>NaN</td>\n",
       "      <td>4.7</td>\n",
       "      <td>NaN</td>\n",
       "    </tr>\n",
       "  </tbody>\n",
       "</table>\n",
       "</div>"
      ],
      "text/plain": [
       "               name            col1         col2       \n",
       "              First    Second First Second First Second\n",
       "record_id                                              \n",
       "1             Alice      Abba   5.5    5.5   6.7    6.7\n",
       "2               Ben       Ben   1.0    1.7   1.1    1.4\n",
       "3          Caroline  Caroline   2.3    2.3   2.6    2.6\n",
       "4               NaN     Donna   NaN    6.5   NaN    6.3\n",
       "5             Edgar       NaN   4.4    NaN   4.7    NaN"
      ]
     },
     "execution_count": 6,
     "metadata": {},
     "output_type": "execute_result"
    }
   ],
   "source": [
    "df_final"
   ]
  },
  {
   "cell_type": "markdown",
   "metadata": {},
   "source": [
    "Intuitively, we can eyeball the differences above. In particular, in the example above: \n",
    "1. `record_id=1` the names are difference (\"Alice\" vs. \"Abba\").\n",
    "2. `record_id=2` the names are the same, but both `col1` and `col2` are different\n",
    "3. `record_id=3` there are no differences.\n",
    "4. `record_id=4` exists in the first data frame but not in the second\n",
    "5. `record_id=5` exists in the second data frame but not in the first"
   ]
  },
  {
   "cell_type": "markdown",
   "metadata": {},
   "source": [
    "We can formally show the differences (example below). First, we visually highlight the differences. Second, we pull out a DataFrame that gives a boolean matrix if the values between the same columns in the two dataframes are different. From there we can generate arbitrary number of summary statistics"
   ]
  },
  {
   "cell_type": "code",
   "execution_count": 12,
   "metadata": {},
   "outputs": [],
   "source": [
    "def highlight_diff(data, color='yellow'):\n",
    "    \"\"\"Highlight differences between columns given same index\"\"\"\n",
    "    attr = 'background-color: {}'.format(color)\n",
    "    other = data.xs('First', axis='columns', level=-1)\n",
    "    return pd.DataFrame(np.where(data.ne(other, level=0), attr, ''),\n",
    "                        index=data.index, columns=data.columns)\n",
    "\n"
   ]
  },
  {
   "cell_type": "code",
   "execution_count": 13,
   "metadata": {},
   "outputs": [
    {
     "data": {
      "text/html": [
       "<style  type=\"text/css\" >\n",
       "    #T_a8cc7df4_4d57_11ea_87c1_acbc327f88a1row0_col1 {\n",
       "            background-color:  yellow;\n",
       "        }    #T_a8cc7df4_4d57_11ea_87c1_acbc327f88a1row1_col3 {\n",
       "            background-color:  yellow;\n",
       "        }    #T_a8cc7df4_4d57_11ea_87c1_acbc327f88a1row1_col5 {\n",
       "            background-color:  yellow;\n",
       "        }    #T_a8cc7df4_4d57_11ea_87c1_acbc327f88a1row3_col0 {\n",
       "            background-color:  yellow;\n",
       "        }    #T_a8cc7df4_4d57_11ea_87c1_acbc327f88a1row3_col1 {\n",
       "            background-color:  yellow;\n",
       "        }    #T_a8cc7df4_4d57_11ea_87c1_acbc327f88a1row3_col2 {\n",
       "            background-color:  yellow;\n",
       "        }    #T_a8cc7df4_4d57_11ea_87c1_acbc327f88a1row3_col3 {\n",
       "            background-color:  yellow;\n",
       "        }    #T_a8cc7df4_4d57_11ea_87c1_acbc327f88a1row3_col4 {\n",
       "            background-color:  yellow;\n",
       "        }    #T_a8cc7df4_4d57_11ea_87c1_acbc327f88a1row3_col5 {\n",
       "            background-color:  yellow;\n",
       "        }    #T_a8cc7df4_4d57_11ea_87c1_acbc327f88a1row4_col1 {\n",
       "            background-color:  yellow;\n",
       "        }    #T_a8cc7df4_4d57_11ea_87c1_acbc327f88a1row4_col3 {\n",
       "            background-color:  yellow;\n",
       "        }    #T_a8cc7df4_4d57_11ea_87c1_acbc327f88a1row4_col5 {\n",
       "            background-color:  yellow;\n",
       "        }</style><table id=\"T_a8cc7df4_4d57_11ea_87c1_acbc327f88a1\" ><thead>    <tr>        <th class=\"blank level0\" ></th>        <th class=\"col_heading level0 col0\" colspan=2>name</th>        <th class=\"col_heading level0 col2\" colspan=2>col1</th>        <th class=\"col_heading level0 col4\" colspan=2>col2</th>    </tr>    <tr>        <th class=\"blank level1\" ></th>        <th class=\"col_heading level1 col0\" >First</th>        <th class=\"col_heading level1 col1\" >Second</th>        <th class=\"col_heading level1 col2\" >First</th>        <th class=\"col_heading level1 col3\" >Second</th>        <th class=\"col_heading level1 col4\" >First</th>        <th class=\"col_heading level1 col5\" >Second</th>    </tr>    <tr>        <th class=\"index_name level0\" >record_id</th>        <th class=\"blank\" ></th>        <th class=\"blank\" ></th>        <th class=\"blank\" ></th>        <th class=\"blank\" ></th>        <th class=\"blank\" ></th>        <th class=\"blank\" ></th>    </tr></thead><tbody>\n",
       "                <tr>\n",
       "                        <th id=\"T_a8cc7df4_4d57_11ea_87c1_acbc327f88a1level0_row0\" class=\"row_heading level0 row0\" >1</th>\n",
       "                        <td id=\"T_a8cc7df4_4d57_11ea_87c1_acbc327f88a1row0_col0\" class=\"data row0 col0\" >Alice</td>\n",
       "                        <td id=\"T_a8cc7df4_4d57_11ea_87c1_acbc327f88a1row0_col1\" class=\"data row0 col1\" >Abba</td>\n",
       "                        <td id=\"T_a8cc7df4_4d57_11ea_87c1_acbc327f88a1row0_col2\" class=\"data row0 col2\" >5.5</td>\n",
       "                        <td id=\"T_a8cc7df4_4d57_11ea_87c1_acbc327f88a1row0_col3\" class=\"data row0 col3\" >5.5</td>\n",
       "                        <td id=\"T_a8cc7df4_4d57_11ea_87c1_acbc327f88a1row0_col4\" class=\"data row0 col4\" >6.7</td>\n",
       "                        <td id=\"T_a8cc7df4_4d57_11ea_87c1_acbc327f88a1row0_col5\" class=\"data row0 col5\" >6.7</td>\n",
       "            </tr>\n",
       "            <tr>\n",
       "                        <th id=\"T_a8cc7df4_4d57_11ea_87c1_acbc327f88a1level0_row1\" class=\"row_heading level0 row1\" >2</th>\n",
       "                        <td id=\"T_a8cc7df4_4d57_11ea_87c1_acbc327f88a1row1_col0\" class=\"data row1 col0\" >Ben</td>\n",
       "                        <td id=\"T_a8cc7df4_4d57_11ea_87c1_acbc327f88a1row1_col1\" class=\"data row1 col1\" >Ben</td>\n",
       "                        <td id=\"T_a8cc7df4_4d57_11ea_87c1_acbc327f88a1row1_col2\" class=\"data row1 col2\" >1</td>\n",
       "                        <td id=\"T_a8cc7df4_4d57_11ea_87c1_acbc327f88a1row1_col3\" class=\"data row1 col3\" >1.7</td>\n",
       "                        <td id=\"T_a8cc7df4_4d57_11ea_87c1_acbc327f88a1row1_col4\" class=\"data row1 col4\" >1.1</td>\n",
       "                        <td id=\"T_a8cc7df4_4d57_11ea_87c1_acbc327f88a1row1_col5\" class=\"data row1 col5\" >1.4</td>\n",
       "            </tr>\n",
       "            <tr>\n",
       "                        <th id=\"T_a8cc7df4_4d57_11ea_87c1_acbc327f88a1level0_row2\" class=\"row_heading level0 row2\" >3</th>\n",
       "                        <td id=\"T_a8cc7df4_4d57_11ea_87c1_acbc327f88a1row2_col0\" class=\"data row2 col0\" >Caroline</td>\n",
       "                        <td id=\"T_a8cc7df4_4d57_11ea_87c1_acbc327f88a1row2_col1\" class=\"data row2 col1\" >Caroline</td>\n",
       "                        <td id=\"T_a8cc7df4_4d57_11ea_87c1_acbc327f88a1row2_col2\" class=\"data row2 col2\" >2.3</td>\n",
       "                        <td id=\"T_a8cc7df4_4d57_11ea_87c1_acbc327f88a1row2_col3\" class=\"data row2 col3\" >2.3</td>\n",
       "                        <td id=\"T_a8cc7df4_4d57_11ea_87c1_acbc327f88a1row2_col4\" class=\"data row2 col4\" >2.6</td>\n",
       "                        <td id=\"T_a8cc7df4_4d57_11ea_87c1_acbc327f88a1row2_col5\" class=\"data row2 col5\" >2.6</td>\n",
       "            </tr>\n",
       "            <tr>\n",
       "                        <th id=\"T_a8cc7df4_4d57_11ea_87c1_acbc327f88a1level0_row3\" class=\"row_heading level0 row3\" >4</th>\n",
       "                        <td id=\"T_a8cc7df4_4d57_11ea_87c1_acbc327f88a1row3_col0\" class=\"data row3 col0\" >nan</td>\n",
       "                        <td id=\"T_a8cc7df4_4d57_11ea_87c1_acbc327f88a1row3_col1\" class=\"data row3 col1\" >Donna</td>\n",
       "                        <td id=\"T_a8cc7df4_4d57_11ea_87c1_acbc327f88a1row3_col2\" class=\"data row3 col2\" >nan</td>\n",
       "                        <td id=\"T_a8cc7df4_4d57_11ea_87c1_acbc327f88a1row3_col3\" class=\"data row3 col3\" >6.5</td>\n",
       "                        <td id=\"T_a8cc7df4_4d57_11ea_87c1_acbc327f88a1row3_col4\" class=\"data row3 col4\" >nan</td>\n",
       "                        <td id=\"T_a8cc7df4_4d57_11ea_87c1_acbc327f88a1row3_col5\" class=\"data row3 col5\" >6.3</td>\n",
       "            </tr>\n",
       "            <tr>\n",
       "                        <th id=\"T_a8cc7df4_4d57_11ea_87c1_acbc327f88a1level0_row4\" class=\"row_heading level0 row4\" >5</th>\n",
       "                        <td id=\"T_a8cc7df4_4d57_11ea_87c1_acbc327f88a1row4_col0\" class=\"data row4 col0\" >Edgar</td>\n",
       "                        <td id=\"T_a8cc7df4_4d57_11ea_87c1_acbc327f88a1row4_col1\" class=\"data row4 col1\" >nan</td>\n",
       "                        <td id=\"T_a8cc7df4_4d57_11ea_87c1_acbc327f88a1row4_col2\" class=\"data row4 col2\" >4.4</td>\n",
       "                        <td id=\"T_a8cc7df4_4d57_11ea_87c1_acbc327f88a1row4_col3\" class=\"data row4 col3\" >nan</td>\n",
       "                        <td id=\"T_a8cc7df4_4d57_11ea_87c1_acbc327f88a1row4_col4\" class=\"data row4 col4\" >4.7</td>\n",
       "                        <td id=\"T_a8cc7df4_4d57_11ea_87c1_acbc327f88a1row4_col5\" class=\"data row4 col5\" >nan</td>\n",
       "            </tr>\n",
       "    </tbody></table>"
      ],
      "text/plain": [
       "<pandas.io.formats.style.Styler at 0x1140a0c50>"
      ]
     },
     "execution_count": 13,
     "metadata": {},
     "output_type": "execute_result"
    }
   ],
   "source": [
    "df_final.style.apply(highlight_diff, axis=None)"
   ]
  },
  {
   "cell_type": "markdown",
   "metadata": {},
   "source": [
    "Highlighted differences above; could be useful for small dataframes to eyeball differences. However, we can more comprehensively summarize by using the actual boolean values for whether the columns are difference for the same `record_id`"
   ]
  },
  {
   "cell_type": "code",
   "execution_count": 14,
   "metadata": {},
   "outputs": [
    {
     "data": {
      "text/html": [
       "<div>\n",
       "<style scoped>\n",
       "    .dataframe tbody tr th:only-of-type {\n",
       "        vertical-align: middle;\n",
       "    }\n",
       "\n",
       "    .dataframe tbody tr th {\n",
       "        vertical-align: top;\n",
       "    }\n",
       "\n",
       "    .dataframe thead tr th {\n",
       "        text-align: left;\n",
       "    }\n",
       "\n",
       "    .dataframe thead tr:last-of-type th {\n",
       "        text-align: right;\n",
       "    }\n",
       "</style>\n",
       "<table border=\"1\" class=\"dataframe\">\n",
       "  <thead>\n",
       "    <tr>\n",
       "      <th></th>\n",
       "      <th colspan=\"2\" halign=\"left\">name</th>\n",
       "      <th colspan=\"2\" halign=\"left\">col1</th>\n",
       "      <th colspan=\"2\" halign=\"left\">col2</th>\n",
       "    </tr>\n",
       "    <tr>\n",
       "      <th></th>\n",
       "      <th>First</th>\n",
       "      <th>Second</th>\n",
       "      <th>First</th>\n",
       "      <th>Second</th>\n",
       "      <th>First</th>\n",
       "      <th>Second</th>\n",
       "    </tr>\n",
       "    <tr>\n",
       "      <th>record_id</th>\n",
       "      <th></th>\n",
       "      <th></th>\n",
       "      <th></th>\n",
       "      <th></th>\n",
       "      <th></th>\n",
       "      <th></th>\n",
       "    </tr>\n",
       "  </thead>\n",
       "  <tbody>\n",
       "    <tr>\n",
       "      <td>1</td>\n",
       "      <td>False</td>\n",
       "      <td>True</td>\n",
       "      <td>False</td>\n",
       "      <td>False</td>\n",
       "      <td>False</td>\n",
       "      <td>False</td>\n",
       "    </tr>\n",
       "    <tr>\n",
       "      <td>2</td>\n",
       "      <td>False</td>\n",
       "      <td>False</td>\n",
       "      <td>False</td>\n",
       "      <td>True</td>\n",
       "      <td>False</td>\n",
       "      <td>True</td>\n",
       "    </tr>\n",
       "    <tr>\n",
       "      <td>3</td>\n",
       "      <td>False</td>\n",
       "      <td>False</td>\n",
       "      <td>False</td>\n",
       "      <td>False</td>\n",
       "      <td>False</td>\n",
       "      <td>False</td>\n",
       "    </tr>\n",
       "    <tr>\n",
       "      <td>4</td>\n",
       "      <td>True</td>\n",
       "      <td>True</td>\n",
       "      <td>True</td>\n",
       "      <td>True</td>\n",
       "      <td>True</td>\n",
       "      <td>True</td>\n",
       "    </tr>\n",
       "    <tr>\n",
       "      <td>5</td>\n",
       "      <td>False</td>\n",
       "      <td>True</td>\n",
       "      <td>False</td>\n",
       "      <td>True</td>\n",
       "      <td>False</td>\n",
       "      <td>True</td>\n",
       "    </tr>\n",
       "  </tbody>\n",
       "</table>\n",
       "</div>"
      ],
      "text/plain": [
       "            name          col1          col2       \n",
       "           First Second  First Second  First Second\n",
       "record_id                                          \n",
       "1          False   True  False  False  False  False\n",
       "2          False  False  False   True  False   True\n",
       "3          False  False  False  False  False  False\n",
       "4           True   True   True   True   True   True\n",
       "5          False   True  False   True  False   True"
      ]
     },
     "execution_count": 14,
     "metadata": {},
     "output_type": "execute_result"
    }
   ],
   "source": [
    "other = df_final.xs('First', axis='columns', level=-1)\n",
    "df_diffs = df_final.ne(other, level=0)\n",
    "df_diffs"
   ]
  },
  {
   "cell_type": "markdown",
   "metadata": {},
   "source": [
    "For example, we can pull the records and how many columns are different for each record"
   ]
  },
  {
   "cell_type": "code",
   "execution_count": 15,
   "metadata": {},
   "outputs": [
    {
     "data": {
      "text/plain": [
       "record_id\n",
       "1    1\n",
       "2    2\n",
       "3    0\n",
       "4    3\n",
       "5    3\n",
       "dtype: int64"
      ]
     },
     "execution_count": 15,
     "metadata": {},
     "output_type": "execute_result"
    }
   ],
   "source": [
    "df_diffs.xs('Second', axis=1, level=1, drop_level=False).sum(axis=1)"
   ]
  },
  {
   "cell_type": "markdown",
   "metadata": {},
   "source": [
    "We can then take this and summarize the distribution of different columns across all records"
   ]
  },
  {
   "cell_type": "code",
   "execution_count": 16,
   "metadata": {},
   "outputs": [
    {
     "data": {
      "text/plain": [
       "3    2\n",
       "2    1\n",
       "1    1\n",
       "0    1\n",
       "dtype: int64"
      ]
     },
     "execution_count": 16,
     "metadata": {},
     "output_type": "execute_result"
    }
   ],
   "source": [
    "df_diffs.xs('Second', axis=1, level=1, drop_level=False).sum(axis=1).value_counts()"
   ]
  },
  {
   "cell_type": "markdown",
   "metadata": {},
   "source": [
    "In this case, there are 2 rows with 3 differences (these are the two rows where one record_id exists in one but completely not in the other), there is 1 row with 2 differences, 1 row with 1 difference, and 1 row with 0 differences."
   ]
  },
  {
   "cell_type": "code",
   "execution_count": null,
   "metadata": {},
   "outputs": [],
   "source": []
  }
 ],
 "metadata": {
  "kernelspec": {
   "display_name": "Python 3",
   "language": "python",
   "name": "python3"
  },
  "language_info": {
   "codemirror_mode": {
    "name": "ipython",
    "version": 3
   },
   "file_extension": ".py",
   "mimetype": "text/x-python",
   "name": "python",
   "nbconvert_exporter": "python",
   "pygments_lexer": "ipython3",
   "version": "3.7.4"
  }
 },
 "nbformat": 4,
 "nbformat_minor": 2
}
