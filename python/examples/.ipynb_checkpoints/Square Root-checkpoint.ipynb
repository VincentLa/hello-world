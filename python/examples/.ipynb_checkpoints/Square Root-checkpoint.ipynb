{
 "cells": [
  {
   "cell_type": "code",
   "execution_count": 85,
   "metadata": {},
   "outputs": [],
   "source": [
    "def square_root(n, threshold=0.01):\n",
    "    \"\"\"Find the square root of an integer\"\"\"\n",
    "    # Assert that n is a non-negative integer\n",
    "    assert n >= 0\n",
    "    \n",
    "    if n == 1 or n == 0:\n",
    "        \"\"\"Base case, if n == 1 or n == 0 then return 1 and 0, respectively\"\"\"\n",
    "        return n\n",
    "    \n",
    "    # In the non-base case, basically conduct a binary search from 0 to n/2\n",
    "    # 1. Define mid = (start + end) / 2\n",
    "    # 2. Check mid * mid against n\n",
    "    # 3. if mid * mid == n then return mid; we found the perfect square root\n",
    "    # 3. if mid * mid > n then search between (start, mid)\n",
    "    # 4. if mid * mid < n then search between (mid, end)\n",
    "    # 5. Continue until difference between start and end is less than some threshold\n",
    "    start = 0\n",
    "    end = n\n",
    "    while abs(start - end) > threshold:\n",
    "#     while start <= end:\n",
    "        mid = (start + end) / 2\n",
    "        print(mid)\n",
    "        if mid * mid == n:\n",
    "            \"\"\"Perfect square root\"\"\"\n",
    "            return mid\n",
    "\n",
    "        if mid * mid > n:\n",
    "            end = mid\n",
    "        \n",
    "        if mid * mid < n:\n",
    "            start = mid\n",
    "    return (start + end) / 2"
   ]
  },
  {
   "cell_type": "code",
   "execution_count": 86,
   "metadata": {},
   "outputs": [
    {
     "name": "stdout",
     "output_type": "stream",
     "text": [
      "12.5\n",
      "6.25\n",
      "3.125\n",
      "4.6875\n",
      "5.46875\n",
      "5.078125\n",
      "4.8828125\n",
      "4.98046875\n",
      "5.029296875\n",
      "5.0048828125\n",
      "4.99267578125\n",
      "4.998779296875\n"
     ]
    },
    {
     "data": {
      "text/plain": [
       "5.0018310546875"
      ]
     },
     "execution_count": 86,
     "metadata": {},
     "output_type": "execute_result"
    }
   ],
   "source": [
    "square_root(25)"
   ]
  },
  {
   "cell_type": "code",
   "execution_count": 69,
   "metadata": {},
   "outputs": [],
   "source": [
    "def square_root_recursion(n, start=None, end=None, threshold=0.01):\n",
    "    \"\"\"Find the square root of an integer\"\"\"\n",
    "    # Assert that n is a non-negative integer\n",
    "    assert n >= 0\n",
    "    \n",
    "    # Initialize cases of start and end\n",
    "    if not start:\n",
    "        start = 0\n",
    "    if not end:\n",
    "        end = n\n",
    "    \n",
    "    if n == 1 or n == 0:\n",
    "        \"\"\"Base case, if n == 1 or n == 0 then return 1 and 0, respectively\"\"\"\n",
    "        return n\n",
    "    \n",
    "    mid = (start + end) / 2\n",
    "    if mid * mid == n:\n",
    "        \"\"\"Perfect square root\"\"\"\n",
    "        return mid\n",
    "    \n",
    "    if abs(start - end) <= threshold:\n",
    "        return mid\n",
    "\n",
    "    if mid * mid > n:\n",
    "        end = mid\n",
    "        \n",
    "    if mid * mid < n:\n",
    "        start = mid\n",
    "    \n",
    "    return square_root_recursion(n, start, end)"
   ]
  },
  {
   "cell_type": "code",
   "execution_count": 74,
   "metadata": {},
   "outputs": [
    {
     "data": {
      "text/plain": [
       "1.41796875"
      ]
     },
     "execution_count": 74,
     "metadata": {},
     "output_type": "execute_result"
    }
   ],
   "source": [
    "square_root_recursion(2)"
   ]
  },
  {
   "cell_type": "code",
   "execution_count": 98,
   "metadata": {},
   "outputs": [],
   "source": [
    "def square_root_int(n, threshold=0.01):\n",
    "    \"\"\"Find the square root of an integer\"\"\"\n",
    "    # Assert that n is a non-negative integer\n",
    "    assert n >= 0\n",
    "    \n",
    "    if n == 1 or n == 0:\n",
    "        \"\"\"Base case, if n == 1 or n == 0 then return 1 and 0, respectively\"\"\"\n",
    "        return n\n",
    "    \n",
    "    # In the non-base case, basically conduct a binary search from 0 to n/2\n",
    "    # 1. Define mid = (start + end) / 2\n",
    "    # 2. Check mid * mid against n\n",
    "    # 3. if mid * mid == n then return mid; we found the perfect square root\n",
    "    # 3. if mid * mid > n then search between (start, mid)\n",
    "    # 4. if mid * mid < n then search between (mid, end)\n",
    "    # 5. Continue until difference between start and end is less than some threshold\n",
    "    start = 0\n",
    "    end = n\n",
    "    while start <= end:\n",
    "        mid = (start + end) // 2\n",
    "        print(mid)\n",
    "        if mid * mid == n:\n",
    "            \"\"\"Perfect square root\"\"\"\n",
    "            return mid\n",
    "\n",
    "        if mid * mid > n:\n",
    "            end = mid - 1\n",
    "        \n",
    "        if mid * mid < n:\n",
    "            start = mid + 1\n",
    "            ans = mid\n",
    "    return ans"
   ]
  },
  {
   "cell_type": "code",
   "execution_count": 100,
   "metadata": {},
   "outputs": [
    {
     "name": "stdout",
     "output_type": "stream",
     "text": [
      "10\n",
      "4\n",
      "7\n",
      "5\n"
     ]
    },
    {
     "data": {
      "text/plain": [
       "4"
      ]
     },
     "execution_count": 100,
     "metadata": {},
     "output_type": "execute_result"
    }
   ],
   "source": [
    "square_root_int(20)"
   ]
  }
 ],
 "metadata": {
  "kernelspec": {
   "display_name": "Python 3",
   "language": "python",
   "name": "python3"
  },
  "language_info": {
   "codemirror_mode": {
    "name": "ipython",
    "version": 3
   },
   "file_extension": ".py",
   "mimetype": "text/x-python",
   "name": "python",
   "nbconvert_exporter": "python",
   "pygments_lexer": "ipython3",
   "version": "3.7.4"
  }
 },
 "nbformat": 4,
 "nbformat_minor": 2
}
