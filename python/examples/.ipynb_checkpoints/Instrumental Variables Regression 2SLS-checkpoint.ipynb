{
 "cells": [
  {
   "cell_type": "markdown",
   "metadata": {},
   "source": [
    "# Running an Instrumental Variables (2SLS) Regression Using statsmodels library in Python"
   ]
  },
  {
   "cell_type": "markdown",
   "metadata": {},
   "source": [
    "Example is taken from: http://www.ats.ucla.edu/stat/stata/examples/methods_matter/chapter10/default.htm which provides a good example of running IV 2SLS in Stata."
   ]
  },
  {
   "cell_type": "markdown",
   "metadata": {},
   "source": [
    "Instrumental variables (IV) is used to estimate causal relationships when the treatment variable of interest is not randomly assigned, but an instrumental variable is.\n",
    "\n",
    "In general, there are two main requirements for using an IV:\n",
    "1. The instrument must be correlated with the endogenous explanatory variables, conditional on the other covariates. This is testable\n",
    "\n",
    "2. The instrument cannot be correlated with the error term in the explanatory equation (conditional on the other covariates), that is, the instrument cannot suffer from the same problem as the original predicting variable. This is fundamentally still untestable, but one can provide evidence and argue using economic and intuitive logic."
   ]
  },
  {
   "cell_type": "markdown",
   "metadata": {},
   "source": [
    "## Example: Effect of College Education on Probabiliy of a person registers to vote"
   ]
  },
  {
   "cell_type": "markdown",
   "metadata": {},
   "source": [
    "In this example, we want to estimate the effect of having a college education on the probability of whether a person register to vote. However, there could be omitted variables bias of people who have a college education and their likelihood to regster to vote. Instead, we use distance to college as an instrument for whether they get a college education."
   ]
  },
  {
   "cell_type": "markdown",
   "metadata": {},
   "source": [
    "### Acquire Data"
   ]
  },
  {
   "cell_type": "markdown",
   "metadata": {},
   "source": [
    "http://www.ats.ucla.edu/stat/stata/examples/methods_matter/chapter10/dee.dta"
   ]
  },
  {
   "cell_type": "code",
   "execution_count": 3,
   "metadata": {
    "collapsed": false
   },
   "outputs": [],
   "source": [
    "import pandas as pd\n",
    "dee_df = pd.read_stata(\"dee.dta\")"
   ]
  },
  {
   "cell_type": "markdown",
   "metadata": {},
   "source": [
    "### Some Summary Stats"
   ]
  },
  {
   "cell_type": "code",
   "execution_count": 4,
   "metadata": {
    "collapsed": false
   },
   "outputs": [
    {
     "data": {
      "text/html": [
       "<div>\n",
       "<table border=\"1\" class=\"dataframe\">\n",
       "  <thead>\n",
       "    <tr style=\"text-align: right;\">\n",
       "      <th></th>\n",
       "      <th>register</th>\n",
       "      <th>college</th>\n",
       "      <th>distance</th>\n",
       "    </tr>\n",
       "  </thead>\n",
       "  <tbody>\n",
       "    <tr>\n",
       "      <th>count</th>\n",
       "      <td>9227.000000</td>\n",
       "      <td>9227.000000</td>\n",
       "      <td>9227.000000</td>\n",
       "    </tr>\n",
       "    <tr>\n",
       "      <th>mean</th>\n",
       "      <td>0.670857</td>\n",
       "      <td>0.547090</td>\n",
       "      <td>9.735992</td>\n",
       "    </tr>\n",
       "    <tr>\n",
       "      <th>std</th>\n",
       "      <td>0.469927</td>\n",
       "      <td>0.497805</td>\n",
       "      <td>8.702286</td>\n",
       "    </tr>\n",
       "    <tr>\n",
       "      <th>min</th>\n",
       "      <td>0.000000</td>\n",
       "      <td>0.000000</td>\n",
       "      <td>0.000000</td>\n",
       "    </tr>\n",
       "    <tr>\n",
       "      <th>25%</th>\n",
       "      <td>0.000000</td>\n",
       "      <td>0.000000</td>\n",
       "      <td>3.000000</td>\n",
       "    </tr>\n",
       "    <tr>\n",
       "      <th>50%</th>\n",
       "      <td>1.000000</td>\n",
       "      <td>1.000000</td>\n",
       "      <td>7.000000</td>\n",
       "    </tr>\n",
       "    <tr>\n",
       "      <th>75%</th>\n",
       "      <td>1.000000</td>\n",
       "      <td>1.000000</td>\n",
       "      <td>15.000001</td>\n",
       "    </tr>\n",
       "    <tr>\n",
       "      <th>max</th>\n",
       "      <td>1.000000</td>\n",
       "      <td>1.000000</td>\n",
       "      <td>35.000000</td>\n",
       "    </tr>\n",
       "  </tbody>\n",
       "</table>\n",
       "</div>"
      ],
      "text/plain": [
       "          register      college     distance\n",
       "count  9227.000000  9227.000000  9227.000000\n",
       "mean      0.670857     0.547090     9.735992\n",
       "std       0.469927     0.497805     8.702286\n",
       "min       0.000000     0.000000     0.000000\n",
       "25%       0.000000     0.000000     3.000000\n",
       "50%       1.000000     1.000000     7.000000\n",
       "75%       1.000000     1.000000    15.000001\n",
       "max       1.000000     1.000000    35.000000"
      ]
     },
     "execution_count": 4,
     "metadata": {},
     "output_type": "execute_result"
    }
   ],
   "source": [
    "dee_df[['register','college', 'distance']].describe()"
   ]
  },
  {
   "cell_type": "markdown",
   "metadata": {},
   "source": [
    "### Linear Regression Example"
   ]
  },
  {
   "cell_type": "code",
   "execution_count": 5,
   "metadata": {
    "collapsed": false
   },
   "outputs": [
    {
     "name": "stdout",
     "output_type": "stream",
     "text": [
      "                            OLS Regression Results                            \n",
      "==============================================================================\n",
      "Dep. Variable:               register   R-squared:                       0.035\n",
      "Model:                            OLS   Adj. R-squared:                  0.035\n",
      "Method:                 Least Squares   F-statistic:                     335.9\n",
      "Date:                Sun, 06 Nov 2016   Prob (F-statistic):           1.03e-73\n",
      "Time:                        23:10:49   Log-Likelihood:                -5959.0\n",
      "No. Observations:                9227   AIC:                         1.192e+04\n",
      "Df Residuals:                    9225   BIC:                         1.194e+04\n",
      "Df Model:                           1                                         \n",
      "Covariance Type:            nonrobust                                         \n",
      "==============================================================================\n",
      "                 coef    std err          t      P>|t|      [95.0% Conf. Int.]\n",
      "------------------------------------------------------------------------------\n",
      "Intercept      0.5741      0.007     80.391      0.000         0.560     0.588\n",
      "college        0.1769      0.010     18.326      0.000         0.158     0.196\n",
      "==============================================================================\n",
      "Omnibus:                      603.688   Durbin-Watson:                   1.955\n",
      "Prob(Omnibus):                  0.000   Jarque-Bera (JB):             1441.712\n",
      "Skew:                          -0.689   Prob(JB):                         0.00\n",
      "Kurtosis:                       1.640   Cond. No.                         2.74\n",
      "==============================================================================\n",
      "\n",
      "Warnings:\n",
      "[1] Standard Errors assume that the covariance matrix of the errors is correctly specified.\n"
     ]
    }
   ],
   "source": [
    "import statsmodels.formula.api as smf\n",
    "result = smf.ols(formula = \"register ~ college\", data = dee_df).fit()\n",
    "print(result.summary())"
   ]
  },
  {
   "cell_type": "markdown",
   "metadata": {},
   "source": [
    "### IV 2SLS (\"By Hand\")"
   ]
  },
  {
   "cell_type": "code",
   "execution_count": 6,
   "metadata": {
    "collapsed": false
   },
   "outputs": [
    {
     "name": "stdout",
     "output_type": "stream",
     "text": [
      "==============================================================================\n",
      "                                  FIRST STAGE                                 \n",
      "==============================================================================\n",
      "                            OLS Regression Results                            \n",
      "==============================================================================\n",
      "Dep. Variable:                college   R-squared:                       0.012\n",
      "Model:                            OLS   Adj. R-squared:                  0.012\n",
      "Method:                 Least Squares   F-statistic:                     115.9\n",
      "Date:                Sun, 06 Nov 2016   Prob (F-statistic):           7.35e-27\n",
      "Time:                        23:10:49   Log-Likelihood:                -6598.2\n",
      "No. Observations:                9227   AIC:                         1.320e+04\n",
      "Df Residuals:                    9225   BIC:                         1.321e+04\n",
      "Df Model:                           1                                         \n",
      "Covariance Type:            nonrobust                                         \n",
      "==============================================================================\n",
      "                 coef    std err          t      P>|t|      [95.0% Conf. Int.]\n",
      "------------------------------------------------------------------------------\n",
      "Intercept      0.6091      0.008     78.812      0.000         0.594     0.624\n",
      "distance      -0.0064      0.001    -10.764      0.000        -0.008    -0.005\n",
      "==============================================================================\n",
      "Omnibus:                       54.830   Durbin-Watson:                   1.703\n",
      "Prob(Omnibus):                  0.000   Jarque-Bera (JB):             1463.752\n",
      "Skew:                          -0.190   Prob(JB):                         0.00\n",
      "Kurtosis:                       1.086   Cond. No.                         19.7\n",
      "==============================================================================\n",
      "\n",
      "Warnings:\n",
      "[1] Standard Errors assume that the covariance matrix of the errors is correctly specified.\n",
      "==============================================================================\n",
      "                                  SECOND STAGE                                \n",
      "==============================================================================\n",
      "                            OLS Regression Results                            \n",
      "==============================================================================\n",
      "Dep. Variable:               register   R-squared:                       0.001\n",
      "Model:                            OLS   Adj. R-squared:                  0.001\n",
      "Method:                 Least Squares   F-statistic:                     10.35\n",
      "Date:                Sun, 06 Nov 2016   Prob (F-statistic):            0.00130\n",
      "Time:                        23:10:49   Log-Likelihood:                -6118.9\n",
      "No. Observations:                9227   AIC:                         1.224e+04\n",
      "Df Residuals:                    9225   BIC:                         1.226e+04\n",
      "Df Model:                           1                                         \n",
      "Covariance Type:            nonrobust                                         \n",
      "==================================================================================\n",
      "                     coef    std err          t      P>|t|      [95.0% Conf. Int.]\n",
      "----------------------------------------------------------------------------------\n",
      "Intercept          0.5157      0.049     10.632      0.000         0.421     0.611\n",
      "college_fitted     0.2837      0.088      3.216      0.001         0.111     0.457\n",
      "==============================================================================\n",
      "Omnibus:                      658.930   Durbin-Watson:                   1.938\n",
      "Prob(Omnibus):                  0.000   Jarque-Bera (JB):             1638.898\n",
      "Skew:                          -0.726   Prob(JB):                         0.00\n",
      "Kurtosis:                       1.532   Cond. No.                         23.4\n",
      "==============================================================================\n",
      "\n",
      "Warnings:\n",
      "[1] Standard Errors assume that the covariance matrix of the errors is correctly specified.\n"
     ]
    }
   ],
   "source": [
    "print(\"==============================================================================\")\n",
    "print(\"                                  FIRST STAGE                                 \")\n",
    "print(\"==============================================================================\")\n",
    "result = smf.ols(formula = \"college ~ distance\", data = dee_df).fit()\n",
    "print(result.summary())\n",
    "dee_df['college_fitted'] = result.predict()\n",
    "\n",
    "print(\"==============================================================================\")\n",
    "print(\"                                  SECOND STAGE                                \")\n",
    "print(\"==============================================================================\")\n",
    "\n",
    "result = smf.ols(formula = \"register ~ college_fitted\", data=dee_df).fit()\n",
    "print(result.summary())"
   ]
  },
  {
   "cell_type": "markdown",
   "metadata": {},
   "source": [
    "The coefficient estimate of `college_fitted` is the correct 2SLS estimate. However, the standard errors are biased downward in this case."
   ]
  },
  {
   "cell_type": "markdown",
   "metadata": {},
   "source": [
    "### IV 2SLS Using GMM.IV2SLS"
   ]
  },
  {
   "cell_type": "markdown",
   "metadata": {},
   "source": [
    "This requires importing the gmm class from the statsmodels.sandbox"
   ]
  },
  {
   "cell_type": "code",
   "execution_count": 7,
   "metadata": {
    "collapsed": true
   },
   "outputs": [],
   "source": [
    "from statsmodels.sandbox.regression import gmm"
   ]
  },
  {
   "cell_type": "code",
   "execution_count": 8,
   "metadata": {
    "collapsed": false
   },
   "outputs": [],
   "source": [
    "# Need to add a column for the constant term\n",
    "dee_df['_const'] = 1\n",
    "\n",
    "# Y Variable\n",
    "endog_df = dee_df[['register']]\n",
    "\n",
    "# X Variable Plus Constant\n",
    "exog_df = dee_df[['college', '_const']]\n",
    "\n",
    "# Instrument, and Constant\n",
    "instrument_df = dee_df[['distance', '_const']]"
   ]
  },
  {
   "cell_type": "code",
   "execution_count": 9,
   "metadata": {
    "collapsed": true
   },
   "outputs": [],
   "source": [
    "# Estimate 2SLS model\n",
    "mod = gmm.IV2SLS(endog=endog_df, exog=exog_df, instrument=instrument_df).fit()"
   ]
  },
  {
   "cell_type": "code",
   "execution_count": 10,
   "metadata": {
    "collapsed": false
   },
   "outputs": [
    {
     "name": "stdout",
     "output_type": "stream",
     "text": [
      "                          IV2SLS Regression Results                           \n",
      "==============================================================================\n",
      "Dep. Variable:               register   R-squared:                       0.022\n",
      "Model:                         IV2SLS   Adj. R-squared:                  0.022\n",
      "Method:                     Two Stage   F-statistic:                     10.57\n",
      "                        Least Squares   Prob (F-statistic):            0.00115\n",
      "Date:                Sun, 06 Nov 2016                                         \n",
      "Time:                        23:10:49                                         \n",
      "No. Observations:                9227                                         \n",
      "Df Residuals:                    9225                                         \n",
      "Df Model:                           1                                         \n",
      "==============================================================================\n",
      "                 coef    std err          t      P>|t|      [95.0% Conf. Int.]\n",
      "------------------------------------------------------------------------------\n",
      "college        0.2837      0.087      3.251      0.001         0.113     0.455\n",
      "_const         0.5157      0.048     10.747      0.000         0.422     0.610\n",
      "==============================================================================\n",
      "Omnibus:                     8010.137   Durbin-Watson:                   1.958\n",
      "Prob(Omnibus):                  0.000   Jarque-Bera (JB):             1156.709\n",
      "Skew:                          -0.630   Prob(JB):                    6.67e-252\n",
      "Kurtosis:                       1.807   Cond. No.                         2.74\n",
      "==============================================================================\n"
     ]
    }
   ],
   "source": [
    "# Print Results\n",
    "print(mod.summary())"
   ]
  },
  {
   "cell_type": "code",
   "execution_count": null,
   "metadata": {
    "collapsed": true
   },
   "outputs": [],
   "source": []
  },
  {
   "cell_type": "code",
   "execution_count": null,
   "metadata": {
    "collapsed": true
   },
   "outputs": [],
   "source": []
  }
 ],
 "metadata": {
  "kernelspec": {
   "display_name": "Python 3",
   "language": "python",
   "name": "python3"
  },
  "language_info": {
   "codemirror_mode": {
    "name": "ipython",
    "version": 3
   },
   "file_extension": ".py",
   "mimetype": "text/x-python",
   "name": "python",
   "nbconvert_exporter": "python",
   "pygments_lexer": "ipython3",
   "version": "3.5.1"
  }
 },
 "nbformat": 4,
 "nbformat_minor": 0
}
