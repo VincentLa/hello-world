{
 "cells": [
  {
   "cell_type": "markdown",
   "metadata": {},
   "source": [
    "# Python from Space: Analyzing Open Satellite Imagery Using the Python Ecosystem (Pycon 2017)"
   ]
  },
  {
   "cell_type": "markdown",
   "metadata": {},
   "source": [
    "Speaker: Katherine Scott\n",
    "http://github.com/kscottz/PythonFromSpace\n",
    "\n",
    "Three examples\n",
    "- Get images and make a time lapse GIF\n",
    "- Use Open Street Maps to derive data about an area\n",
    "- Create video using satellite data"
   ]
  },
  {
   "cell_type": "markdown",
   "metadata": {},
   "source": [
    "In practice, Space is this public/private thing, Landsat 7/8: NASA, bunch of other satellites. For non-commercial purposes, there is a lot of free data out there."
   ]
  },
  {
   "cell_type": "markdown",
   "metadata": {},
   "source": [
    "Satellite Terminology: Bands\n",
    "- Most cameras and people see in just RGB\n",
    "- Satellites see in lots of \"colors\"\n",
    "- We call each color channel a band\n",
    "- More bands = super powers\n",
    "\n",
    "1. Remote Sensing: Fancy term for satellite images\n",
    "2. Ortho-rectification: Process of lining up images to a base map and correcting distortion\n",
    "3. Nadir ANgle: How far off the satellite is from noraml to the earth's surface\n",
    "4. Raster/Vector - Raster: Pixel Images. Vector: Series of points\n",
    "5. UTM: Universal transverse mercator. COordinate system like latitude/longitude. Requires a \"zone\"\n",
    "6. UDM: Usable data map, a mask that shows where cloud are etc.\n",
    "7. DEM - digital Elevation Map: The heigh of any place on Earth"
   ]
  },
  {
   "cell_type": "markdown",
   "metadata": {},
   "source": [
    "## Questions"
   ]
  },
  {
   "cell_type": "markdown",
   "metadata": {},
   "source": [
    "1. Tools to download images for a specific time period?\n",
    "2. How far back can you download images for satellites from Planet?"
   ]
  },
  {
   "cell_type": "code",
   "execution_count": null,
   "metadata": {
    "collapsed": true
   },
   "outputs": [],
   "source": []
  }
 ],
 "metadata": {
  "kernelspec": {
   "display_name": "Python 3",
   "language": "python",
   "name": "python3"
  },
  "language_info": {
   "codemirror_mode": {
    "name": "ipython",
    "version": 3
   },
   "file_extension": ".py",
   "mimetype": "text/x-python",
   "name": "python",
   "nbconvert_exporter": "python",
   "pygments_lexer": "ipython3",
   "version": "3.6.0"
  }
 },
 "nbformat": 4,
 "nbformat_minor": 2
}
