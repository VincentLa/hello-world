{
 "cells": [
  {
   "cell_type": "markdown",
   "metadata": {},
   "source": [
    "# Intro to Pandas"
   ]
  },
  {
   "cell_type": "markdown",
   "metadata": {},
   "source": [
    "Originally, python was hard to use because of speed. Then, someone had the bright idea to run C but call it in Python. This gave birth to numpy. Numpy is effectively a wrapper (or a container) around C code. Scipy is the algorithm.\n",
    "\n",
    "Pandas is an interface for data like you have in SQL tables."
   ]
  },
  {
   "cell_type": "code",
   "execution_count": 122,
   "metadata": {
    "collapsed": true
   },
   "outputs": [],
   "source": [
    "import pandas as pd\n",
    "import datetime as dt\n",
    "import matplotlib as plt\n",
    "\n",
    "%matplotlib inline"
   ]
  },
  {
   "cell_type": "code",
   "execution_count": 84,
   "metadata": {
    "collapsed": false
   },
   "outputs": [],
   "source": [
    "tasks = {'task_id': ['t1', 't2', 't3', 't4', 't5'],\n",
    "         'dag_id': ['archive_data', 'archive_data', 'atl', 'atl', 'atl'],\n",
    "         'duration': [53, 60, 10, 39, 100],\n",
    "         'job_id': [1, 2, 3, 4, 5],\n",
    "         'execution_date': ['2016-12-01', '2016-12-02', '2016-12-03', '2016-12-04', '2017-01-02'],\n",
    "         'start_date': ['2016-12-01', '2016-12-02', '2016-12-03', '2016-12-04', '2017-01-02'],\n",
    "         'end_date': ['2016-12-01', '2016-12-02', '2016-12-03', '2016-12-04', '2017-01-02']}\n",
    "#tasks = pd.read_csv()\n",
    "tasks = pd.DataFrame(tasks)"
   ]
  },
  {
   "cell_type": "markdown",
   "metadata": {},
   "source": [
    "## Exploring DataFrame"
   ]
  },
  {
   "cell_type": "code",
   "execution_count": 85,
   "metadata": {
    "collapsed": false
   },
   "outputs": [
    {
     "data": {
      "text/plain": [
       "pandas.core.frame.DataFrame"
      ]
     },
     "execution_count": 85,
     "metadata": {},
     "output_type": "execute_result"
    }
   ],
   "source": [
    "type(tasks)"
   ]
  },
  {
   "cell_type": "code",
   "execution_count": 86,
   "metadata": {
    "collapsed": false
   },
   "outputs": [
    {
     "data": {
      "text/plain": [
       "(5, 7)"
      ]
     },
     "execution_count": 86,
     "metadata": {},
     "output_type": "execute_result"
    }
   ],
   "source": [
    "tasks.shape"
   ]
  },
  {
   "cell_type": "code",
   "execution_count": 87,
   "metadata": {
    "collapsed": false
   },
   "outputs": [
    {
     "data": {
      "text/plain": [
       "Index(['dag_id', 'duration', 'end_date', 'execution_date', 'job_id',\n",
       "       'start_date', 'task_id'],\n",
       "      dtype='object')"
      ]
     },
     "execution_count": 87,
     "metadata": {},
     "output_type": "execute_result"
    }
   ],
   "source": [
    "tasks.columns"
   ]
  },
  {
   "cell_type": "code",
   "execution_count": 88,
   "metadata": {
    "collapsed": false
   },
   "outputs": [
    {
     "data": {
      "text/plain": [
       "dag_id            object\n",
       "duration           int64\n",
       "end_date          object\n",
       "execution_date    object\n",
       "job_id             int64\n",
       "start_date        object\n",
       "task_id           object\n",
       "dtype: object"
      ]
     },
     "execution_count": 88,
     "metadata": {},
     "output_type": "execute_result"
    }
   ],
   "source": [
    "# Object type is because when you're creating a C level array of something, it has to have a data type of a fixed size.\n",
    "# You end up with python object pointers that, in this case, point to strings.\n",
    "tasks.dtypes"
   ]
  },
  {
   "cell_type": "code",
   "execution_count": 89,
   "metadata": {
    "collapsed": false
   },
   "outputs": [],
   "source": [
    "desc = tasks.describe()"
   ]
  },
  {
   "cell_type": "code",
   "execution_count": 90,
   "metadata": {
    "collapsed": false
   },
   "outputs": [
    {
     "data": {
      "text/plain": [
       "count      5.000000\n",
       "mean      52.400000\n",
       "std       32.791767\n",
       "min       10.000000\n",
       "25%       39.000000\n",
       "50%       53.000000\n",
       "75%       60.000000\n",
       "max      100.000000\n",
       "Name: duration, dtype: float64"
      ]
     },
     "execution_count": 90,
     "metadata": {},
     "output_type": "execute_result"
    }
   ],
   "source": [
    "desc['duration']"
   ]
  },
  {
   "cell_type": "code",
   "execution_count": 91,
   "metadata": {
    "collapsed": false
   },
   "outputs": [
    {
     "data": {
      "text/plain": [
       "52.399999999999999"
      ]
     },
     "execution_count": 91,
     "metadata": {},
     "output_type": "execute_result"
    }
   ],
   "source": [
    "desc['duration']['mean']"
   ]
  },
  {
   "cell_type": "code",
   "execution_count": 92,
   "metadata": {
    "collapsed": false
   },
   "outputs": [
    {
     "data": {
      "text/html": [
       "<div>\n",
       "<table border=\"1\" class=\"dataframe\">\n",
       "  <thead>\n",
       "    <tr style=\"text-align: right;\">\n",
       "      <th></th>\n",
       "      <th>duration</th>\n",
       "      <th>job_id</th>\n",
       "    </tr>\n",
       "  </thead>\n",
       "  <tbody>\n",
       "    <tr>\n",
       "      <th>count</th>\n",
       "      <td>5.000000</td>\n",
       "      <td>5.000000</td>\n",
       "    </tr>\n",
       "    <tr>\n",
       "      <th>mean</th>\n",
       "      <td>52.400000</td>\n",
       "      <td>3.000000</td>\n",
       "    </tr>\n",
       "    <tr>\n",
       "      <th>std</th>\n",
       "      <td>32.791767</td>\n",
       "      <td>1.581139</td>\n",
       "    </tr>\n",
       "    <tr>\n",
       "      <th>min</th>\n",
       "      <td>10.000000</td>\n",
       "      <td>1.000000</td>\n",
       "    </tr>\n",
       "    <tr>\n",
       "      <th>25%</th>\n",
       "      <td>39.000000</td>\n",
       "      <td>2.000000</td>\n",
       "    </tr>\n",
       "    <tr>\n",
       "      <th>50%</th>\n",
       "      <td>53.000000</td>\n",
       "      <td>3.000000</td>\n",
       "    </tr>\n",
       "    <tr>\n",
       "      <th>75%</th>\n",
       "      <td>60.000000</td>\n",
       "      <td>4.000000</td>\n",
       "    </tr>\n",
       "    <tr>\n",
       "      <th>max</th>\n",
       "      <td>100.000000</td>\n",
       "      <td>5.000000</td>\n",
       "    </tr>\n",
       "  </tbody>\n",
       "</table>\n",
       "</div>"
      ],
      "text/plain": [
       "         duration    job_id\n",
       "count    5.000000  5.000000\n",
       "mean    52.400000  3.000000\n",
       "std     32.791767  1.581139\n",
       "min     10.000000  1.000000\n",
       "25%     39.000000  2.000000\n",
       "50%     53.000000  3.000000\n",
       "75%     60.000000  4.000000\n",
       "max    100.000000  5.000000"
      ]
     },
     "execution_count": 92,
     "metadata": {},
     "output_type": "execute_result"
    }
   ],
   "source": [
    "desc[['duration', 'job_id']]"
   ]
  },
  {
   "cell_type": "markdown",
   "metadata": {},
   "source": [
    "Notice that there is a row index here. We can grab a row using this index. One of the biggest traps is when you are accessing rows vs columns. If you're going to grab a row by it's label, use .loc. This returns a series."
   ]
  },
  {
   "cell_type": "code",
   "execution_count": 93,
   "metadata": {
    "collapsed": false
   },
   "outputs": [
    {
     "data": {
      "text/plain": [
       "duration    5.0\n",
       "job_id      5.0\n",
       "Name: count, dtype: float64"
      ]
     },
     "execution_count": 93,
     "metadata": {},
     "output_type": "execute_result"
    }
   ],
   "source": [
    "desc.loc['count']"
   ]
  },
  {
   "cell_type": "code",
   "execution_count": 94,
   "metadata": {
    "collapsed": false
   },
   "outputs": [
    {
     "data": {
      "text/plain": [
       "pandas.core.series.Series"
      ]
     },
     "execution_count": 94,
     "metadata": {},
     "output_type": "execute_result"
    }
   ],
   "source": [
    "type(desc.loc['count'])"
   ]
  },
  {
   "cell_type": "code",
   "execution_count": 95,
   "metadata": {
    "collapsed": false
   },
   "outputs": [
    {
     "data": {
      "text/plain": [
       "5.0"
      ]
     },
     "execution_count": 95,
     "metadata": {},
     "output_type": "execute_result"
    }
   ],
   "source": [
    "desc.loc['count']['duration']"
   ]
  },
  {
   "cell_type": "code",
   "execution_count": 96,
   "metadata": {
    "collapsed": false
   },
   "outputs": [
    {
     "data": {
      "text/plain": [
       "5.0"
      ]
     },
     "execution_count": 96,
     "metadata": {},
     "output_type": "execute_result"
    }
   ],
   "source": [
    "desc.loc['count', 'duration']"
   ]
  },
  {
   "cell_type": "code",
   "execution_count": 97,
   "metadata": {
    "collapsed": false
   },
   "outputs": [
    {
     "data": {
      "text/plain": [
       "mean    52.400000\n",
       "std     32.791767\n",
       "50%     53.000000\n",
       "Name: duration, dtype: float64"
      ]
     },
     "execution_count": 97,
     "metadata": {},
     "output_type": "execute_result"
    }
   ],
   "source": [
    "desc.loc[['mean', 'std', '50%'], 'duration']"
   ]
  },
  {
   "cell_type": "markdown",
   "metadata": {},
   "source": [
    "If you want to use a positional index, you can use .iloc. For example [0:2] extracts the first 2 rows."
   ]
  },
  {
   "cell_type": "code",
   "execution_count": 98,
   "metadata": {
    "collapsed": false
   },
   "outputs": [
    {
     "data": {
      "text/html": [
       "<div>\n",
       "<table border=\"1\" class=\"dataframe\">\n",
       "  <thead>\n",
       "    <tr style=\"text-align: right;\">\n",
       "      <th></th>\n",
       "      <th>duration</th>\n",
       "      <th>job_id</th>\n",
       "    </tr>\n",
       "  </thead>\n",
       "  <tbody>\n",
       "    <tr>\n",
       "      <th>count</th>\n",
       "      <td>5.0</td>\n",
       "      <td>5.0</td>\n",
       "    </tr>\n",
       "    <tr>\n",
       "      <th>mean</th>\n",
       "      <td>52.4</td>\n",
       "      <td>3.0</td>\n",
       "    </tr>\n",
       "  </tbody>\n",
       "</table>\n",
       "</div>"
      ],
      "text/plain": [
       "       duration  job_id\n",
       "count       5.0     5.0\n",
       "mean       52.4     3.0"
      ]
     },
     "execution_count": 98,
     "metadata": {},
     "output_type": "execute_result"
    }
   ],
   "source": [
    "desc.iloc[0:2]"
   ]
  },
  {
   "cell_type": "code",
   "execution_count": 99,
   "metadata": {
    "collapsed": false
   },
   "outputs": [
    {
     "data": {
      "text/html": [
       "<div>\n",
       "<table border=\"1\" class=\"dataframe\">\n",
       "  <thead>\n",
       "    <tr style=\"text-align: right;\">\n",
       "      <th></th>\n",
       "      <th>dag_id</th>\n",
       "      <th>duration</th>\n",
       "      <th>end_date</th>\n",
       "      <th>execution_date</th>\n",
       "      <th>job_id</th>\n",
       "      <th>start_date</th>\n",
       "      <th>task_id</th>\n",
       "    </tr>\n",
       "  </thead>\n",
       "  <tbody>\n",
       "    <tr>\n",
       "      <th>0</th>\n",
       "      <td>archive_data</td>\n",
       "      <td>53</td>\n",
       "      <td>2016-12-01</td>\n",
       "      <td>2016-12-01</td>\n",
       "      <td>1</td>\n",
       "      <td>2016-12-01</td>\n",
       "      <td>t1</td>\n",
       "    </tr>\n",
       "    <tr>\n",
       "      <th>1</th>\n",
       "      <td>archive_data</td>\n",
       "      <td>60</td>\n",
       "      <td>2016-12-02</td>\n",
       "      <td>2016-12-02</td>\n",
       "      <td>2</td>\n",
       "      <td>2016-12-02</td>\n",
       "      <td>t2</td>\n",
       "    </tr>\n",
       "    <tr>\n",
       "      <th>2</th>\n",
       "      <td>atl</td>\n",
       "      <td>10</td>\n",
       "      <td>2016-12-03</td>\n",
       "      <td>2016-12-03</td>\n",
       "      <td>3</td>\n",
       "      <td>2016-12-03</td>\n",
       "      <td>t3</td>\n",
       "    </tr>\n",
       "    <tr>\n",
       "      <th>3</th>\n",
       "      <td>atl</td>\n",
       "      <td>39</td>\n",
       "      <td>2016-12-04</td>\n",
       "      <td>2016-12-04</td>\n",
       "      <td>4</td>\n",
       "      <td>2016-12-04</td>\n",
       "      <td>t4</td>\n",
       "    </tr>\n",
       "  </tbody>\n",
       "</table>\n",
       "</div>"
      ],
      "text/plain": [
       "         dag_id  duration    end_date execution_date  job_id  start_date  \\\n",
       "0  archive_data        53  2016-12-01     2016-12-01       1  2016-12-01   \n",
       "1  archive_data        60  2016-12-02     2016-12-02       2  2016-12-02   \n",
       "2           atl        10  2016-12-03     2016-12-03       3  2016-12-03   \n",
       "3           atl        39  2016-12-04     2016-12-04       4  2016-12-04   \n",
       "\n",
       "  task_id  \n",
       "0      t1  \n",
       "1      t2  \n",
       "2      t3  \n",
       "3      t4  "
      ]
     },
     "execution_count": 99,
     "metadata": {},
     "output_type": "execute_result"
    }
   ],
   "source": [
    "tasks.head(4)"
   ]
  },
  {
   "cell_type": "code",
   "execution_count": 100,
   "metadata": {
    "collapsed": true
   },
   "outputs": [],
   "source": [
    "tasks.execution_date = pd.to_datetime(tasks.execution_date)\n",
    "tasks.start_date = pd.to_datetime(tasks.start_date)\n",
    "tasks.end_date = pd.to_datetime(tasks.end_date)"
   ]
  },
  {
   "cell_type": "code",
   "execution_count": 101,
   "metadata": {
    "collapsed": false
   },
   "outputs": [
    {
     "data": {
      "text/plain": [
       "dag_id                    object\n",
       "duration                   int64\n",
       "end_date          datetime64[ns]\n",
       "execution_date    datetime64[ns]\n",
       "job_id                     int64\n",
       "start_date        datetime64[ns]\n",
       "task_id                   object\n",
       "dtype: object"
      ]
     },
     "execution_count": 101,
     "metadata": {},
     "output_type": "execute_result"
    }
   ],
   "source": [
    "tasks.dtypes"
   ]
  },
  {
   "cell_type": "code",
   "execution_count": 102,
   "metadata": {
    "collapsed": false
   },
   "outputs": [
    {
     "data": {
      "text/plain": [
       "Timestamp('2016-12-01 00:00:00')"
      ]
     },
     "execution_count": 102,
     "metadata": {},
     "output_type": "execute_result"
    }
   ],
   "source": [
    "tasks.start_date.min()"
   ]
  },
  {
   "cell_type": "markdown",
   "metadata": {},
   "source": [
    "## Filtering Rows\n",
    "There's a useful concept in pandas called broadcasting. Pandas can compare each value of a series to a particular constant. This can be used to filter rows"
   ]
  },
  {
   "cell_type": "code",
   "execution_count": 103,
   "metadata": {
    "collapsed": false
   },
   "outputs": [
    {
     "data": {
      "text/html": [
       "<div>\n",
       "<table border=\"1\" class=\"dataframe\">\n",
       "  <thead>\n",
       "    <tr style=\"text-align: right;\">\n",
       "      <th></th>\n",
       "      <th>dag_id</th>\n",
       "      <th>duration</th>\n",
       "      <th>end_date</th>\n",
       "      <th>execution_date</th>\n",
       "      <th>job_id</th>\n",
       "      <th>start_date</th>\n",
       "      <th>task_id</th>\n",
       "    </tr>\n",
       "  </thead>\n",
       "  <tbody>\n",
       "    <tr>\n",
       "      <th>0</th>\n",
       "      <td>archive_data</td>\n",
       "      <td>53</td>\n",
       "      <td>2016-12-01</td>\n",
       "      <td>2016-12-01</td>\n",
       "      <td>1</td>\n",
       "      <td>2016-12-01</td>\n",
       "      <td>t1</td>\n",
       "    </tr>\n",
       "  </tbody>\n",
       "</table>\n",
       "</div>"
      ],
      "text/plain": [
       "         dag_id  duration   end_date execution_date  job_id start_date task_id\n",
       "0  archive_data        53 2016-12-01     2016-12-01       1 2016-12-01      t1"
      ]
     },
     "execution_count": 103,
     "metadata": {},
     "output_type": "execute_result"
    }
   ],
   "source": [
    "tasks.loc[tasks.start_date == tasks.start_date.min()]"
   ]
  },
  {
   "cell_type": "code",
   "execution_count": 106,
   "metadata": {
    "collapsed": false
   },
   "outputs": [],
   "source": [
    "dec = tasks.loc[\n",
    "    (tasks.start_date >= dt.datetime(2016, 12, 1)) &\n",
    "    (tasks.start_date < dt.datetime(2017, 1, 1))\n",
    "]"
   ]
  },
  {
   "cell_type": "code",
   "execution_count": 108,
   "metadata": {
    "collapsed": false
   },
   "outputs": [
    {
     "data": {
      "text/plain": [
       "(4, 7)"
      ]
     },
     "execution_count": 108,
     "metadata": {},
     "output_type": "execute_result"
    }
   ],
   "source": [
    "dec.shape"
   ]
  },
  {
   "cell_type": "code",
   "execution_count": 110,
   "metadata": {
    "collapsed": false
   },
   "outputs": [
    {
     "data": {
      "text/html": [
       "<div>\n",
       "<table border=\"1\" class=\"dataframe\">\n",
       "  <thead>\n",
       "    <tr style=\"text-align: right;\">\n",
       "      <th></th>\n",
       "      <th>dag_id</th>\n",
       "      <th>duration</th>\n",
       "      <th>end_date</th>\n",
       "      <th>execution_date</th>\n",
       "      <th>job_id</th>\n",
       "      <th>start_date</th>\n",
       "      <th>task_id</th>\n",
       "    </tr>\n",
       "  </thead>\n",
       "  <tbody>\n",
       "    <tr>\n",
       "      <th>2</th>\n",
       "      <td>atl</td>\n",
       "      <td>10</td>\n",
       "      <td>2016-12-03</td>\n",
       "      <td>2016-12-03</td>\n",
       "      <td>3</td>\n",
       "      <td>2016-12-03</td>\n",
       "      <td>t3</td>\n",
       "    </tr>\n",
       "  </tbody>\n",
       "</table>\n",
       "</div>"
      ],
      "text/plain": [
       "  dag_id  duration   end_date execution_date  job_id start_date task_id\n",
       "2    atl        10 2016-12-03     2016-12-03       3 2016-12-03      t3"
      ]
     },
     "execution_count": 110,
     "metadata": {},
     "output_type": "execute_result"
    }
   ],
   "source": [
    "tasks.query('dag_id == \"atl\" and task_id == \"t3\"')"
   ]
  },
  {
   "cell_type": "markdown",
   "metadata": {},
   "source": [
    "You can also time tasks"
   ]
  },
  {
   "cell_type": "code",
   "execution_count": 113,
   "metadata": {
    "collapsed": false
   },
   "outputs": [
    {
     "name": "stdout",
     "output_type": "stream",
     "text": [
      "1000 loops, best of 3: 968 µs per loop\n"
     ]
    }
   ],
   "source": [
    "%%timeit\n",
    "tasks.loc[\n",
    "    (tasks.dag_id == 'atl') & (tasks.task_id == 'atl_is_done')\n",
    "]"
   ]
  },
  {
   "cell_type": "code",
   "execution_count": 112,
   "metadata": {
    "collapsed": false
   },
   "outputs": [
    {
     "name": "stdout",
     "output_type": "stream",
     "text": [
      "100 loops, best of 3: 1.74 ms per loop\n"
     ]
    }
   ],
   "source": [
    "%%timeit\n",
    "tasks.query('dag_id == \"atl\" and task_id == \"atl_is_done\"')"
   ]
  },
  {
   "cell_type": "code",
   "execution_count": 114,
   "metadata": {
    "collapsed": false
   },
   "outputs": [
    {
     "data": {
      "text/html": [
       "<div>\n",
       "<table border=\"1\" class=\"dataframe\">\n",
       "  <thead>\n",
       "    <tr style=\"text-align: right;\">\n",
       "      <th></th>\n",
       "      <th>dag_id</th>\n",
       "      <th>duration</th>\n",
       "      <th>end_date</th>\n",
       "      <th>execution_date</th>\n",
       "      <th>job_id</th>\n",
       "      <th>start_date</th>\n",
       "      <th>task_id</th>\n",
       "    </tr>\n",
       "  </thead>\n",
       "  <tbody>\n",
       "    <tr>\n",
       "      <th>2</th>\n",
       "      <td>atl</td>\n",
       "      <td>10</td>\n",
       "      <td>2016-12-03</td>\n",
       "      <td>2016-12-03</td>\n",
       "      <td>3</td>\n",
       "      <td>2016-12-03</td>\n",
       "      <td>t3</td>\n",
       "    </tr>\n",
       "    <tr>\n",
       "      <th>3</th>\n",
       "      <td>atl</td>\n",
       "      <td>39</td>\n",
       "      <td>2016-12-04</td>\n",
       "      <td>2016-12-04</td>\n",
       "      <td>4</td>\n",
       "      <td>2016-12-04</td>\n",
       "      <td>t4</td>\n",
       "    </tr>\n",
       "    <tr>\n",
       "      <th>4</th>\n",
       "      <td>atl</td>\n",
       "      <td>100</td>\n",
       "      <td>2017-01-02</td>\n",
       "      <td>2017-01-02</td>\n",
       "      <td>5</td>\n",
       "      <td>2017-01-02</td>\n",
       "      <td>t5</td>\n",
       "    </tr>\n",
       "  </tbody>\n",
       "</table>\n",
       "</div>"
      ],
      "text/plain": [
       "  dag_id  duration   end_date execution_date  job_id start_date task_id\n",
       "2    atl        10 2016-12-03     2016-12-03       3 2016-12-03      t3\n",
       "3    atl        39 2016-12-04     2016-12-04       4 2016-12-04      t4\n",
       "4    atl       100 2017-01-02     2017-01-02       5 2017-01-02      t5"
      ]
     },
     "execution_count": 114,
     "metadata": {},
     "output_type": "execute_result"
    }
   ],
   "source": [
    "tasks.loc[tasks.dag_id.str.contains('atl')]"
   ]
  },
  {
   "cell_type": "markdown",
   "metadata": {},
   "source": [
    "## Group By Method"
   ]
  },
  {
   "cell_type": "code",
   "execution_count": 115,
   "metadata": {
    "collapsed": true
   },
   "outputs": [],
   "source": [
    "gb = tasks.groupby('dag_id')"
   ]
  },
  {
   "cell_type": "code",
   "execution_count": 116,
   "metadata": {
    "collapsed": false
   },
   "outputs": [
    {
     "data": {
      "text/plain": [
       "<pandas.core.groupby.DataFrameGroupBy object at 0x10cecfda0>"
      ]
     },
     "execution_count": 116,
     "metadata": {},
     "output_type": "execute_result"
    }
   ],
   "source": [
    "gb"
   ]
  },
  {
   "cell_type": "code",
   "execution_count": 118,
   "metadata": {
    "collapsed": false
   },
   "outputs": [
    {
     "name": "stdout",
     "output_type": "stream",
     "text": [
      "archive_data\n",
      "         dag_id  duration   end_date execution_date  job_id start_date task_id\n",
      "0  archive_data        53 2016-12-01     2016-12-01       1 2016-12-01      t1\n",
      "1  archive_data        60 2016-12-02     2016-12-02       2 2016-12-02      t2\n",
      "atl\n",
      "  dag_id  duration   end_date execution_date  job_id start_date task_id\n",
      "2    atl        10 2016-12-03     2016-12-03       3 2016-12-03      t3\n",
      "3    atl        39 2016-12-04     2016-12-04       4 2016-12-04      t4\n",
      "4    atl       100 2017-01-02     2017-01-02       5 2017-01-02      t5\n"
     ]
    }
   ],
   "source": [
    "for group, df in gb:\n",
    "    print(group)\n",
    "    print(df)"
   ]
  },
  {
   "cell_type": "code",
   "execution_count": 120,
   "metadata": {
    "collapsed": false
   },
   "outputs": [
    {
     "data": {
      "text/plain": [
       "dag_id\n",
       "archive_data    56.500000\n",
       "atl             49.666667\n",
       "Name: duration, dtype: float64"
      ]
     },
     "execution_count": 120,
     "metadata": {},
     "output_type": "execute_result"
    }
   ],
   "source": [
    "# Aggregation statistics in pandas always ignores NaN's\n",
    "gb.duration.mean()"
   ]
  },
  {
   "cell_type": "code",
   "execution_count": 121,
   "metadata": {
    "collapsed": false
   },
   "outputs": [
    {
     "data": {
      "text/plain": [
       "dag_id\n",
       "archive_data    56.500000\n",
       "atl             49.666667\n",
       "Name: duration, dtype: float64"
      ]
     },
     "execution_count": 121,
     "metadata": {},
     "output_type": "execute_result"
    }
   ],
   "source": [
    "gb.duration.mean().sort_values(ascending=False)"
   ]
  },
  {
   "cell_type": "code",
   "execution_count": 124,
   "metadata": {
    "collapsed": false
   },
   "outputs": [
    {
     "data": {
      "text/plain": [
       "<matplotlib.axes._subplots.AxesSubplot at 0x10dd41be0>"
      ]
     },
     "execution_count": 124,
     "metadata": {},
     "output_type": "execute_result"
    },
    {
     "data": {
      "image/png": "[encoded data removed]",
      "text/plain": [
       "<matplotlib.figure.Figure at 0x10dda5198>"
      ]
     },
     "metadata": {},
     "output_type": "display_data"
    }
   ],
   "source": [
    "# Size is counting rows in the group (similar to count aggregate function in SQL)\n",
    "gb.size().sort_values(ascending=False).iloc[:20].plot.bar(figsize=(10, 6))"
   ]
  },
  {
   "cell_type": "code",
   "execution_count": 126,
   "metadata": {
    "collapsed": false
   },
   "outputs": [
    {
     "ename": "TypeError",
     "evalue": "resample() got an unexpected keyword argument 'on'",
     "output_type": "error",
     "traceback": [
      "\u001b[0;31m---------------------------------------------------------------------------\u001b[0m",
      "\u001b[0;31mTypeError\u001b[0m                                 Traceback (most recent call last)",
      "\u001b[0;32m<ipython-input-126-dadaa85feb79>\u001b[0m in \u001b[0;36m<module>\u001b[0;34m()\u001b[0m\n\u001b[0;32m----> 1\u001b[0;31m \u001b[0mtasks\u001b[0m\u001b[0;34m.\u001b[0m\u001b[0mresample\u001b[0m\u001b[0;34m(\u001b[0m\u001b[0;34m'1M'\u001b[0m\u001b[0;34m,\u001b[0m \u001b[0mon\u001b[0m\u001b[0;34m=\u001b[0m\u001b[0;34m'start_date'\u001b[0m\u001b[0;34m)\u001b[0m\u001b[0;34m.\u001b[0m\u001b[0msize\u001b[0m\u001b[0;34m(\u001b[0m\u001b[0;34m)\u001b[0m\u001b[0;34m.\u001b[0m\u001b[0mplot\u001b[0m\u001b[0;34m.\u001b[0m\u001b[0mline\u001b[0m\u001b[0;34m(\u001b[0m\u001b[0;34m)\u001b[0m\u001b[0;34m\u001b[0m\u001b[0m\n\u001b[0m",
      "\u001b[0;31mTypeError\u001b[0m: resample() got an unexpected keyword argument 'on'"
     ]
    }
   ],
   "source": [
    "tasks.resample('1M', on='start_date').size().plot.line()"
   ]
  },
  {
   "cell_type": "code",
   "execution_count": null,
   "metadata": {
    "collapsed": true
   },
   "outputs": [],
   "source": []
  }
 ],
 "metadata": {
  "kernelspec": {
   "display_name": "Python 3",
   "language": "python",
   "name": "python3"
  },
  "language_info": {
   "codemirror_mode": {
    "name": "ipython",
    "version": 3
   },
   "file_extension": ".py",
   "mimetype": "text/x-python",
   "name": "python",
   "nbconvert_exporter": "python",
   "pygments_lexer": "ipython3",
   "version": "3.5.1"
  }
 },
 "nbformat": 4,
 "nbformat_minor": 0
}
